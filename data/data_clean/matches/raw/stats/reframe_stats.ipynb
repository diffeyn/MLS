{
 "cells": [
  {
   "cell_type": "code",
   "execution_count": 10,
   "id": "ebcb7e1a",
   "metadata": {},
   "outputs": [],
   "source": [
    "import pandas as pd\n",
    "import re\n",
    "import glob\n",
    "import os"
   ]
  },
  {
   "cell_type": "code",
   "execution_count": 11,
   "id": "18047c7b",
   "metadata": {},
   "outputs": [],
   "source": [
    "df = pd.read_csv('cleaned_stats_sdvsatx-05-31-2025.csv')"
   ]
  },
  {
   "cell_type": "code",
   "execution_count": 12,
   "id": "3b4fbd21",
   "metadata": {},
   "outputs": [],
   "source": [
    "csv = 'cleaned_stats_atlvsmtl-02-22-2025.csv'\n",
    "df = pd.read_csv(csv)"
   ]
  },
  {
   "cell_type": "code",
   "execution_count": 13,
   "id": "fbbbaf71",
   "metadata": {},
   "outputs": [
    {
     "name": "stdout",
     "output_type": "stream",
     "text": [
      "home_team: ATL\n",
      "away_team: MTL\n",
      "date     : 2025-02-22 00:00:00\n"
     ]
    },
    {
     "data": {
      "application/vnd.microsoft.datawrangler.viewer.v0+json": {
       "columns": [
        {
         "name": "index",
         "rawType": "int64",
         "type": "integer"
        },
        {
         "name": "stat",
         "rawType": "object",
         "type": "string"
        },
        {
         "name": "home_value",
         "rawType": "object",
         "type": "unknown"
        },
        {
         "name": "away_value",
         "rawType": "object",
         "type": "unknown"
        }
       ],
       "ref": "30a6defd-2bde-4104-8085-f97bcfca2c73",
       "rows": [
        [
         "0",
         "shooting_Possession %",
         "48.0",
         "52.0"
        ],
        [
         "1",
         "shooting_Shots",
         "14.0",
         "12.0"
        ],
        [
         "2",
         "shooting_Shots on Goal",
         "8.0",
         "5.0"
        ],
        [
         "3",
         "shooting_Blocked Shots",
         "3.0",
         "1.0"
        ],
        [
         "4",
         "shooting_Total Passes",
         "471.0",
         "492.0"
        ],
        [
         "5",
         "shooting_Passing Accuracy %",
         "80.3",
         "82.3"
        ],
        [
         "6",
         "shooting_Corners",
         "7.0",
         "5.0"
        ],
        [
         "7",
         "shooting_Total Crosses",
         "5.0",
         "13.0"
        ],
        [
         "8",
         "shooting_Offsides",
         "1.0",
         "2.0"
        ],
        [
         "9",
         "shooting_Aerial Duels Won",
         "19.0",
         "10.0"
        ],
        [
         "10",
         "shooting_Expected Goals",
         "2.2",
         "3.5"
        ],
        [
         "11",
         "shooting_Goalkeeper Saves",
         "4.0",
         "5.0"
        ],
        [
         "12",
         "shooting_Clearances",
         "4.0",
         "3.0"
        ],
        [
         "13",
         "shooting_Fouls",
         "12.0",
         "15.0"
        ],
        [
         "14",
         "shooting_Yellow Cards",
         "3.0",
         "2.0"
        ],
        [
         "15",
         "shooting_Red Cards",
         "0.0",
         "0.0"
        ],
        [
         "16",
         "shooting_Overall %",
         "80.3",
         "82.3"
        ],
        [
         "17",
         "shooting_Open Play Pass %",
         "80.1",
         "81.8"
        ],
        [
         "18",
         "shooting_Set Piece Cross %",
         "66.7",
         "50.0"
        ],
        [
         "19",
         "shooting_Open Play Cross %",
         "20.0",
         "30.8"
        ],
        [
         "20",
         "shooting_Goals",
         "3.0",
         "2.0"
        ],
        [
         "21",
         "shooting_On Target",
         "8.0",
         "5.0"
        ],
        [
         "22",
         "shooting_Off Target",
         "11.0",
         "10.0"
        ],
        [
         "23",
         "shooting_Blocked",
         "3.0",
         "1.0"
        ],
        [
         "24",
         "shooting_Goals Conceded",
         "2.0",
         "3.0"
        ],
        [
         "25",
         "shooting_Shots Against",
         "14.0",
         "12.0"
        ],
        [
         "26",
         "shooting_Clean Sheets",
         "0.0",
         "0.0"
        ],
        [
         "27",
         "shooting_XG Conceded",
         "3.5",
         "2.2"
        ],
        [
         "28",
         "shooting_Interceptions",
         "2.0",
         "0.0"
        ],
        [
         "29",
         "shooting_Goals",
         "3.0",
         "2.0"
        ],
        [
         "30",
         "shooting_On Target",
         "8.0",
         "5.0"
        ],
        [
         "31",
         "shooting_Off Target",
         "3.0",
         "5.0"
        ],
        [
         "32",
         "shooting_Blocked",
         "3.0",
         "1.0"
        ],
        [
         "33",
         "passing_Overall %",
         "80.3",
         "82.3"
        ],
        [
         "34",
         "passing_Open Play Pass %",
         "80.1",
         "81.8"
        ],
        [
         "35",
         "passing_Set Piece Cross %",
         "66.7",
         "50.0"
        ],
        [
         "36",
         "passing_Open Play Cross %",
         "20.0",
         "30.8"
        ],
        [
         "37",
         "possession_0_5",
         "50.92",
         "49.08"
        ],
        [
         "38",
         "possession_6_10",
         "50.92",
         "49.08"
        ],
        [
         "39",
         "possession_11_15",
         "50.92",
         "49.08"
        ],
        [
         "40",
         "possession_16_20",
         "50.92",
         "49.08"
        ],
        [
         "41",
         "possession_21_25",
         "50.92",
         "49.08"
        ],
        [
         "42",
         "possession_26_30",
         "50.92",
         "49.08"
        ],
        [
         "43",
         "possession_31_35",
         "50.92",
         "49.08"
        ],
        [
         "44",
         "possession_36_40",
         "50.92",
         "49.08"
        ],
        [
         "45",
         "possession_41_45",
         "50.92",
         "49.08"
        ],
        [
         "46",
         "possession_46_50",
         "50.92",
         "49.08"
        ],
        [
         "47",
         "possession_51_55",
         "50.92",
         "49.08"
        ],
        [
         "48",
         "possession_56_60",
         "50.92",
         "49.08"
        ],
        [
         "49",
         "possession_61_65",
         "50.92",
         "49.08"
        ]
       ],
       "shape": {
        "columns": 3,
        "rows": 60
       }
      },
      "text/html": [
       "<div>\n",
       "<style scoped>\n",
       "    .dataframe tbody tr th:only-of-type {\n",
       "        vertical-align: middle;\n",
       "    }\n",
       "\n",
       "    .dataframe tbody tr th {\n",
       "        vertical-align: top;\n",
       "    }\n",
       "\n",
       "    .dataframe thead th {\n",
       "        text-align: right;\n",
       "    }\n",
       "</style>\n",
       "<table border=\"1\" class=\"dataframe\">\n",
       "  <thead>\n",
       "    <tr style=\"text-align: right;\">\n",
       "      <th></th>\n",
       "      <th>stat</th>\n",
       "      <th>home_value</th>\n",
       "      <th>away_value</th>\n",
       "    </tr>\n",
       "  </thead>\n",
       "  <tbody>\n",
       "    <tr>\n",
       "      <th>0</th>\n",
       "      <td>shooting_Possession %</td>\n",
       "      <td>48.0</td>\n",
       "      <td>52.0</td>\n",
       "    </tr>\n",
       "    <tr>\n",
       "      <th>1</th>\n",
       "      <td>shooting_Shots</td>\n",
       "      <td>14.0</td>\n",
       "      <td>12.0</td>\n",
       "    </tr>\n",
       "    <tr>\n",
       "      <th>2</th>\n",
       "      <td>shooting_Shots on Goal</td>\n",
       "      <td>8.0</td>\n",
       "      <td>5.0</td>\n",
       "    </tr>\n",
       "    <tr>\n",
       "      <th>3</th>\n",
       "      <td>shooting_Blocked Shots</td>\n",
       "      <td>3.0</td>\n",
       "      <td>1.0</td>\n",
       "    </tr>\n",
       "    <tr>\n",
       "      <th>4</th>\n",
       "      <td>shooting_Total Passes</td>\n",
       "      <td>471.0</td>\n",
       "      <td>492.0</td>\n",
       "    </tr>\n",
       "    <tr>\n",
       "      <th>5</th>\n",
       "      <td>shooting_Passing Accuracy %</td>\n",
       "      <td>80.3</td>\n",
       "      <td>82.3</td>\n",
       "    </tr>\n",
       "    <tr>\n",
       "      <th>6</th>\n",
       "      <td>shooting_Corners</td>\n",
       "      <td>7.0</td>\n",
       "      <td>5.0</td>\n",
       "    </tr>\n",
       "    <tr>\n",
       "      <th>7</th>\n",
       "      <td>shooting_Total Crosses</td>\n",
       "      <td>5.0</td>\n",
       "      <td>13.0</td>\n",
       "    </tr>\n",
       "    <tr>\n",
       "      <th>8</th>\n",
       "      <td>shooting_Offsides</td>\n",
       "      <td>1.0</td>\n",
       "      <td>2.0</td>\n",
       "    </tr>\n",
       "    <tr>\n",
       "      <th>9</th>\n",
       "      <td>shooting_Aerial Duels Won</td>\n",
       "      <td>19.0</td>\n",
       "      <td>10.0</td>\n",
       "    </tr>\n",
       "    <tr>\n",
       "      <th>10</th>\n",
       "      <td>shooting_Expected Goals</td>\n",
       "      <td>2.2</td>\n",
       "      <td>3.5</td>\n",
       "    </tr>\n",
       "    <tr>\n",
       "      <th>11</th>\n",
       "      <td>shooting_Goalkeeper Saves</td>\n",
       "      <td>4.0</td>\n",
       "      <td>5.0</td>\n",
       "    </tr>\n",
       "    <tr>\n",
       "      <th>12</th>\n",
       "      <td>shooting_Clearances</td>\n",
       "      <td>4.0</td>\n",
       "      <td>3.0</td>\n",
       "    </tr>\n",
       "    <tr>\n",
       "      <th>13</th>\n",
       "      <td>shooting_Fouls</td>\n",
       "      <td>12.0</td>\n",
       "      <td>15.0</td>\n",
       "    </tr>\n",
       "    <tr>\n",
       "      <th>14</th>\n",
       "      <td>shooting_Yellow Cards</td>\n",
       "      <td>3.0</td>\n",
       "      <td>2.0</td>\n",
       "    </tr>\n",
       "    <tr>\n",
       "      <th>15</th>\n",
       "      <td>shooting_Red Cards</td>\n",
       "      <td>0.0</td>\n",
       "      <td>0.0</td>\n",
       "    </tr>\n",
       "    <tr>\n",
       "      <th>16</th>\n",
       "      <td>shooting_Overall %</td>\n",
       "      <td>80.3</td>\n",
       "      <td>82.3</td>\n",
       "    </tr>\n",
       "    <tr>\n",
       "      <th>17</th>\n",
       "      <td>shooting_Open Play Pass %</td>\n",
       "      <td>80.1</td>\n",
       "      <td>81.8</td>\n",
       "    </tr>\n",
       "    <tr>\n",
       "      <th>18</th>\n",
       "      <td>shooting_Set Piece Cross %</td>\n",
       "      <td>66.7</td>\n",
       "      <td>50.0</td>\n",
       "    </tr>\n",
       "    <tr>\n",
       "      <th>19</th>\n",
       "      <td>shooting_Open Play Cross %</td>\n",
       "      <td>20.0</td>\n",
       "      <td>30.8</td>\n",
       "    </tr>\n",
       "    <tr>\n",
       "      <th>20</th>\n",
       "      <td>shooting_Goals</td>\n",
       "      <td>3.0</td>\n",
       "      <td>2.0</td>\n",
       "    </tr>\n",
       "    <tr>\n",
       "      <th>21</th>\n",
       "      <td>shooting_On Target</td>\n",
       "      <td>8.0</td>\n",
       "      <td>5.0</td>\n",
       "    </tr>\n",
       "    <tr>\n",
       "      <th>22</th>\n",
       "      <td>shooting_Off Target</td>\n",
       "      <td>11.0</td>\n",
       "      <td>10.0</td>\n",
       "    </tr>\n",
       "    <tr>\n",
       "      <th>23</th>\n",
       "      <td>shooting_Blocked</td>\n",
       "      <td>3.0</td>\n",
       "      <td>1.0</td>\n",
       "    </tr>\n",
       "    <tr>\n",
       "      <th>24</th>\n",
       "      <td>shooting_Goals Conceded</td>\n",
       "      <td>2.0</td>\n",
       "      <td>3.0</td>\n",
       "    </tr>\n",
       "    <tr>\n",
       "      <th>25</th>\n",
       "      <td>shooting_Shots Against</td>\n",
       "      <td>14.0</td>\n",
       "      <td>12.0</td>\n",
       "    </tr>\n",
       "    <tr>\n",
       "      <th>26</th>\n",
       "      <td>shooting_Clean Sheets</td>\n",
       "      <td>0.0</td>\n",
       "      <td>0.0</td>\n",
       "    </tr>\n",
       "    <tr>\n",
       "      <th>27</th>\n",
       "      <td>shooting_XG Conceded</td>\n",
       "      <td>3.5</td>\n",
       "      <td>2.2</td>\n",
       "    </tr>\n",
       "    <tr>\n",
       "      <th>28</th>\n",
       "      <td>shooting_Interceptions</td>\n",
       "      <td>2.0</td>\n",
       "      <td>0.0</td>\n",
       "    </tr>\n",
       "    <tr>\n",
       "      <th>29</th>\n",
       "      <td>shooting_Goals</td>\n",
       "      <td>3.0</td>\n",
       "      <td>2.0</td>\n",
       "    </tr>\n",
       "    <tr>\n",
       "      <th>30</th>\n",
       "      <td>shooting_On Target</td>\n",
       "      <td>8.0</td>\n",
       "      <td>5.0</td>\n",
       "    </tr>\n",
       "    <tr>\n",
       "      <th>31</th>\n",
       "      <td>shooting_Off Target</td>\n",
       "      <td>3.0</td>\n",
       "      <td>5.0</td>\n",
       "    </tr>\n",
       "    <tr>\n",
       "      <th>32</th>\n",
       "      <td>shooting_Blocked</td>\n",
       "      <td>3.0</td>\n",
       "      <td>1.0</td>\n",
       "    </tr>\n",
       "    <tr>\n",
       "      <th>33</th>\n",
       "      <td>passing_Overall %</td>\n",
       "      <td>80.3</td>\n",
       "      <td>82.3</td>\n",
       "    </tr>\n",
       "    <tr>\n",
       "      <th>34</th>\n",
       "      <td>passing_Open Play Pass %</td>\n",
       "      <td>80.1</td>\n",
       "      <td>81.8</td>\n",
       "    </tr>\n",
       "    <tr>\n",
       "      <th>35</th>\n",
       "      <td>passing_Set Piece Cross %</td>\n",
       "      <td>66.7</td>\n",
       "      <td>50.0</td>\n",
       "    </tr>\n",
       "    <tr>\n",
       "      <th>36</th>\n",
       "      <td>passing_Open Play Cross %</td>\n",
       "      <td>20.0</td>\n",
       "      <td>30.8</td>\n",
       "    </tr>\n",
       "    <tr>\n",
       "      <th>37</th>\n",
       "      <td>possession_0_5</td>\n",
       "      <td>50.92</td>\n",
       "      <td>49.08</td>\n",
       "    </tr>\n",
       "    <tr>\n",
       "      <th>38</th>\n",
       "      <td>possession_6_10</td>\n",
       "      <td>50.92</td>\n",
       "      <td>49.08</td>\n",
       "    </tr>\n",
       "    <tr>\n",
       "      <th>39</th>\n",
       "      <td>possession_11_15</td>\n",
       "      <td>50.92</td>\n",
       "      <td>49.08</td>\n",
       "    </tr>\n",
       "    <tr>\n",
       "      <th>40</th>\n",
       "      <td>possession_16_20</td>\n",
       "      <td>50.92</td>\n",
       "      <td>49.08</td>\n",
       "    </tr>\n",
       "    <tr>\n",
       "      <th>41</th>\n",
       "      <td>possession_21_25</td>\n",
       "      <td>50.92</td>\n",
       "      <td>49.08</td>\n",
       "    </tr>\n",
       "    <tr>\n",
       "      <th>42</th>\n",
       "      <td>possession_26_30</td>\n",
       "      <td>50.92</td>\n",
       "      <td>49.08</td>\n",
       "    </tr>\n",
       "    <tr>\n",
       "      <th>43</th>\n",
       "      <td>possession_31_35</td>\n",
       "      <td>50.92</td>\n",
       "      <td>49.08</td>\n",
       "    </tr>\n",
       "    <tr>\n",
       "      <th>44</th>\n",
       "      <td>possession_36_40</td>\n",
       "      <td>50.92</td>\n",
       "      <td>49.08</td>\n",
       "    </tr>\n",
       "    <tr>\n",
       "      <th>45</th>\n",
       "      <td>possession_41_45</td>\n",
       "      <td>50.92</td>\n",
       "      <td>49.08</td>\n",
       "    </tr>\n",
       "    <tr>\n",
       "      <th>46</th>\n",
       "      <td>possession_46_50</td>\n",
       "      <td>50.92</td>\n",
       "      <td>49.08</td>\n",
       "    </tr>\n",
       "    <tr>\n",
       "      <th>47</th>\n",
       "      <td>possession_51_55</td>\n",
       "      <td>50.92</td>\n",
       "      <td>49.08</td>\n",
       "    </tr>\n",
       "    <tr>\n",
       "      <th>48</th>\n",
       "      <td>possession_56_60</td>\n",
       "      <td>50.92</td>\n",
       "      <td>49.08</td>\n",
       "    </tr>\n",
       "    <tr>\n",
       "      <th>49</th>\n",
       "      <td>possession_61_65</td>\n",
       "      <td>50.92</td>\n",
       "      <td>49.08</td>\n",
       "    </tr>\n",
       "    <tr>\n",
       "      <th>50</th>\n",
       "      <td>possession_66_70</td>\n",
       "      <td>50.92</td>\n",
       "      <td>49.08</td>\n",
       "    </tr>\n",
       "    <tr>\n",
       "      <th>51</th>\n",
       "      <td>possession_71_75</td>\n",
       "      <td>50.92</td>\n",
       "      <td>49.08</td>\n",
       "    </tr>\n",
       "    <tr>\n",
       "      <th>52</th>\n",
       "      <td>possession_76_80</td>\n",
       "      <td>50.92</td>\n",
       "      <td>49.08</td>\n",
       "    </tr>\n",
       "    <tr>\n",
       "      <th>53</th>\n",
       "      <td>possession_81_85</td>\n",
       "      <td>50.92</td>\n",
       "      <td>49.08</td>\n",
       "    </tr>\n",
       "    <tr>\n",
       "      <th>54</th>\n",
       "      <td>possession_86_90</td>\n",
       "      <td>50.92</td>\n",
       "      <td>49.08</td>\n",
       "    </tr>\n",
       "    <tr>\n",
       "      <th>55</th>\n",
       "      <td>xg_Total Team XG</td>\n",
       "      <td>2.2</td>\n",
       "      <td>3.5</td>\n",
       "    </tr>\n",
       "    <tr>\n",
       "      <th>56</th>\n",
       "      <td>xg_Shots</td>\n",
       "      <td>14.0</td>\n",
       "      <td>12.0</td>\n",
       "    </tr>\n",
       "    <tr>\n",
       "      <th>57</th>\n",
       "      <td>xg_Shots On Target</td>\n",
       "      <td>8.0</td>\n",
       "      <td>5.0</td>\n",
       "    </tr>\n",
       "    <tr>\n",
       "      <th>58</th>\n",
       "      <td>teams</td>\n",
       "      <td>ATL</td>\n",
       "      <td>MTL</td>\n",
       "    </tr>\n",
       "    <tr>\n",
       "      <th>59</th>\n",
       "      <td>date</td>\n",
       "      <td>2025-02-22 00:00:00</td>\n",
       "      <td>2025-02-22 00:00:00</td>\n",
       "    </tr>\n",
       "  </tbody>\n",
       "</table>\n",
       "</div>"
      ],
      "text/plain": [
       "                           stat           home_value           away_value\n",
       "0         shooting_Possession %                 48.0                 52.0\n",
       "1                shooting_Shots                 14.0                 12.0\n",
       "2        shooting_Shots on Goal                  8.0                  5.0\n",
       "3        shooting_Blocked Shots                  3.0                  1.0\n",
       "4         shooting_Total Passes                471.0                492.0\n",
       "5   shooting_Passing Accuracy %                 80.3                 82.3\n",
       "6              shooting_Corners                  7.0                  5.0\n",
       "7        shooting_Total Crosses                  5.0                 13.0\n",
       "8             shooting_Offsides                  1.0                  2.0\n",
       "9     shooting_Aerial Duels Won                 19.0                 10.0\n",
       "10      shooting_Expected Goals                  2.2                  3.5\n",
       "11    shooting_Goalkeeper Saves                  4.0                  5.0\n",
       "12          shooting_Clearances                  4.0                  3.0\n",
       "13               shooting_Fouls                 12.0                 15.0\n",
       "14        shooting_Yellow Cards                  3.0                  2.0\n",
       "15           shooting_Red Cards                  0.0                  0.0\n",
       "16           shooting_Overall %                 80.3                 82.3\n",
       "17    shooting_Open Play Pass %                 80.1                 81.8\n",
       "18   shooting_Set Piece Cross %                 66.7                 50.0\n",
       "19   shooting_Open Play Cross %                 20.0                 30.8\n",
       "20               shooting_Goals                  3.0                  2.0\n",
       "21           shooting_On Target                  8.0                  5.0\n",
       "22          shooting_Off Target                 11.0                 10.0\n",
       "23             shooting_Blocked                  3.0                  1.0\n",
       "24      shooting_Goals Conceded                  2.0                  3.0\n",
       "25       shooting_Shots Against                 14.0                 12.0\n",
       "26        shooting_Clean Sheets                  0.0                  0.0\n",
       "27         shooting_XG Conceded                  3.5                  2.2\n",
       "28       shooting_Interceptions                  2.0                  0.0\n",
       "29               shooting_Goals                  3.0                  2.0\n",
       "30           shooting_On Target                  8.0                  5.0\n",
       "31          shooting_Off Target                  3.0                  5.0\n",
       "32             shooting_Blocked                  3.0                  1.0\n",
       "33            passing_Overall %                 80.3                 82.3\n",
       "34     passing_Open Play Pass %                 80.1                 81.8\n",
       "35    passing_Set Piece Cross %                 66.7                 50.0\n",
       "36    passing_Open Play Cross %                 20.0                 30.8\n",
       "37               possession_0_5                50.92                49.08\n",
       "38              possession_6_10                50.92                49.08\n",
       "39             possession_11_15                50.92                49.08\n",
       "40             possession_16_20                50.92                49.08\n",
       "41             possession_21_25                50.92                49.08\n",
       "42             possession_26_30                50.92                49.08\n",
       "43             possession_31_35                50.92                49.08\n",
       "44             possession_36_40                50.92                49.08\n",
       "45             possession_41_45                50.92                49.08\n",
       "46             possession_46_50                50.92                49.08\n",
       "47             possession_51_55                50.92                49.08\n",
       "48             possession_56_60                50.92                49.08\n",
       "49             possession_61_65                50.92                49.08\n",
       "50             possession_66_70                50.92                49.08\n",
       "51             possession_71_75                50.92                49.08\n",
       "52             possession_76_80                50.92                49.08\n",
       "53             possession_81_85                50.92                49.08\n",
       "54             possession_86_90                50.92                49.08\n",
       "55             xg_Total Team XG                  2.2                  3.5\n",
       "56                     xg_Shots                 14.0                 12.0\n",
       "57           xg_Shots On Target                  8.0                  5.0\n",
       "58                        teams                  ATL                  MTL\n",
       "59                         date  2025-02-22 00:00:00  2025-02-22 00:00:00"
      ]
     },
     "execution_count": 13,
     "metadata": {},
     "output_type": "execute_result"
    }
   ],
   "source": [
    "fname = os.path.basename(csv)\n",
    "\n",
    "# regex: match 'cleaned_stats_' + home + 'vs' + away + '-' + date + '.csv'\n",
    "m = re.match(r\"cleaned_stats_([a-z]{2,4})vs([a-z]{2,4})-(\\d{2}-\\d{2}-\\d{4})\\.csv\", fname, re.I)\n",
    "\n",
    "if m:\n",
    "    home, away, date_str = m.groups()\n",
    "    home, away = home.upper(), away.upper()\n",
    "    date = pd.to_datetime(date_str, format=\"%m-%d-%Y\")\n",
    "    print(\"home_team:\", home)   # ATL\n",
    "    print(\"away_team:\", away)   # MTL\n",
    "    print(\"date     :\", date)   # 2025-02-22 00:00:00\n",
    "\n",
    "    # add rows with stat = date and team = teams\n",
    "    add_df = pd.DataFrame({\n",
    "        'home_value': [home],\n",
    "        'away_value': [away],\n",
    "        'stat': 'teams'\n",
    "    })\n",
    "    \n",
    "    new_row = pd.DataFrame({\n",
    "        'home_value': [date],\n",
    "        'away_value': [date],\n",
    "        'stat': 'date'\n",
    "    })\n",
    "\n",
    "df = pd.concat([df, add_df], ignore_index=True)\n",
    "\n",
    "df = pd.concat([df, new_row], ignore_index=True)\n",
    "\n",
    "\n",
    "df"
   ]
  },
  {
   "cell_type": "code",
   "execution_count": 14,
   "id": "ffd4eaa7",
   "metadata": {},
   "outputs": [],
   "source": [
    "### pivot long to wide\n",
    "\n",
    "out = {}\n",
    "for _, row in df.iterrows():\n",
    "    out[f\"{row['stat']}_home\"] = row['home_value']\n",
    "    out[f\"{row['stat']}_away\"] = row['away_value']\n",
    "\n",
    "wide = pd.DataFrame([out])"
   ]
  },
  {
   "cell_type": "code",
   "execution_count": 15,
   "id": "48bceb72",
   "metadata": {},
   "outputs": [
    {
     "data": {
      "application/vnd.microsoft.datawrangler.viewer.v0+json": {
       "columns": [
        {
         "name": "index",
         "rawType": "int64",
         "type": "integer"
        },
        {
         "name": "shooting_Possession %_home",
         "rawType": "float64",
         "type": "float"
        },
        {
         "name": "shooting_Possession %_away",
         "rawType": "float64",
         "type": "float"
        },
        {
         "name": "shooting_Shots_home",
         "rawType": "float64",
         "type": "float"
        },
        {
         "name": "shooting_Shots_away",
         "rawType": "float64",
         "type": "float"
        },
        {
         "name": "shooting_Shots on Goal_home",
         "rawType": "float64",
         "type": "float"
        },
        {
         "name": "shooting_Shots on Goal_away",
         "rawType": "float64",
         "type": "float"
        },
        {
         "name": "shooting_Blocked Shots_home",
         "rawType": "float64",
         "type": "float"
        },
        {
         "name": "shooting_Blocked Shots_away",
         "rawType": "float64",
         "type": "float"
        },
        {
         "name": "shooting_Total Passes_home",
         "rawType": "float64",
         "type": "float"
        },
        {
         "name": "shooting_Total Passes_away",
         "rawType": "float64",
         "type": "float"
        },
        {
         "name": "shooting_Passing Accuracy %_home",
         "rawType": "float64",
         "type": "float"
        },
        {
         "name": "shooting_Passing Accuracy %_away",
         "rawType": "float64",
         "type": "float"
        },
        {
         "name": "shooting_Corners_home",
         "rawType": "float64",
         "type": "float"
        },
        {
         "name": "shooting_Corners_away",
         "rawType": "float64",
         "type": "float"
        },
        {
         "name": "shooting_Total Crosses_home",
         "rawType": "float64",
         "type": "float"
        },
        {
         "name": "shooting_Total Crosses_away",
         "rawType": "float64",
         "type": "float"
        },
        {
         "name": "shooting_Offsides_home",
         "rawType": "float64",
         "type": "float"
        },
        {
         "name": "shooting_Offsides_away",
         "rawType": "float64",
         "type": "float"
        },
        {
         "name": "shooting_Aerial Duels Won_home",
         "rawType": "float64",
         "type": "float"
        },
        {
         "name": "shooting_Aerial Duels Won_away",
         "rawType": "float64",
         "type": "float"
        },
        {
         "name": "shooting_Expected Goals_home",
         "rawType": "float64",
         "type": "float"
        },
        {
         "name": "shooting_Expected Goals_away",
         "rawType": "float64",
         "type": "float"
        },
        {
         "name": "shooting_Goalkeeper Saves_home",
         "rawType": "float64",
         "type": "float"
        },
        {
         "name": "shooting_Goalkeeper Saves_away",
         "rawType": "float64",
         "type": "float"
        },
        {
         "name": "shooting_Clearances_home",
         "rawType": "float64",
         "type": "float"
        },
        {
         "name": "shooting_Clearances_away",
         "rawType": "float64",
         "type": "float"
        },
        {
         "name": "shooting_Fouls_home",
         "rawType": "float64",
         "type": "float"
        },
        {
         "name": "shooting_Fouls_away",
         "rawType": "float64",
         "type": "float"
        },
        {
         "name": "shooting_Yellow Cards_home",
         "rawType": "float64",
         "type": "float"
        },
        {
         "name": "shooting_Yellow Cards_away",
         "rawType": "float64",
         "type": "float"
        },
        {
         "name": "shooting_Red Cards_home",
         "rawType": "float64",
         "type": "float"
        },
        {
         "name": "shooting_Red Cards_away",
         "rawType": "float64",
         "type": "float"
        },
        {
         "name": "shooting_Overall %_home",
         "rawType": "float64",
         "type": "float"
        },
        {
         "name": "shooting_Overall %_away",
         "rawType": "float64",
         "type": "float"
        },
        {
         "name": "shooting_Open Play Pass %_home",
         "rawType": "float64",
         "type": "float"
        },
        {
         "name": "shooting_Open Play Pass %_away",
         "rawType": "float64",
         "type": "float"
        },
        {
         "name": "shooting_Set Piece Cross %_home",
         "rawType": "float64",
         "type": "float"
        },
        {
         "name": "shooting_Set Piece Cross %_away",
         "rawType": "float64",
         "type": "float"
        },
        {
         "name": "shooting_Open Play Cross %_home",
         "rawType": "float64",
         "type": "float"
        },
        {
         "name": "shooting_Open Play Cross %_away",
         "rawType": "float64",
         "type": "float"
        },
        {
         "name": "shooting_Goals_home",
         "rawType": "float64",
         "type": "float"
        },
        {
         "name": "shooting_Goals_away",
         "rawType": "float64",
         "type": "float"
        },
        {
         "name": "shooting_On Target_home",
         "rawType": "float64",
         "type": "float"
        },
        {
         "name": "shooting_On Target_away",
         "rawType": "float64",
         "type": "float"
        },
        {
         "name": "shooting_Off Target_home",
         "rawType": "float64",
         "type": "float"
        },
        {
         "name": "shooting_Off Target_away",
         "rawType": "float64",
         "type": "float"
        },
        {
         "name": "shooting_Blocked_home",
         "rawType": "float64",
         "type": "float"
        },
        {
         "name": "shooting_Blocked_away",
         "rawType": "float64",
         "type": "float"
        },
        {
         "name": "shooting_Goals Conceded_home",
         "rawType": "float64",
         "type": "float"
        },
        {
         "name": "shooting_Goals Conceded_away",
         "rawType": "float64",
         "type": "float"
        },
        {
         "name": "shooting_Shots Against_home",
         "rawType": "float64",
         "type": "float"
        },
        {
         "name": "shooting_Shots Against_away",
         "rawType": "float64",
         "type": "float"
        },
        {
         "name": "shooting_Clean Sheets_home",
         "rawType": "float64",
         "type": "float"
        },
        {
         "name": "shooting_Clean Sheets_away",
         "rawType": "float64",
         "type": "float"
        },
        {
         "name": "shooting_XG Conceded_home",
         "rawType": "float64",
         "type": "float"
        },
        {
         "name": "shooting_XG Conceded_away",
         "rawType": "float64",
         "type": "float"
        },
        {
         "name": "shooting_Interceptions_home",
         "rawType": "float64",
         "type": "float"
        },
        {
         "name": "shooting_Interceptions_away",
         "rawType": "float64",
         "type": "float"
        },
        {
         "name": "passing_Overall %_home",
         "rawType": "float64",
         "type": "float"
        },
        {
         "name": "passing_Overall %_away",
         "rawType": "float64",
         "type": "float"
        },
        {
         "name": "passing_Open Play Pass %_home",
         "rawType": "float64",
         "type": "float"
        },
        {
         "name": "passing_Open Play Pass %_away",
         "rawType": "float64",
         "type": "float"
        },
        {
         "name": "passing_Set Piece Cross %_home",
         "rawType": "float64",
         "type": "float"
        },
        {
         "name": "passing_Set Piece Cross %_away",
         "rawType": "float64",
         "type": "float"
        },
        {
         "name": "passing_Open Play Cross %_home",
         "rawType": "float64",
         "type": "float"
        },
        {
         "name": "passing_Open Play Cross %_away",
         "rawType": "float64",
         "type": "float"
        },
        {
         "name": "possession_0_5_home",
         "rawType": "float64",
         "type": "float"
        },
        {
         "name": "possession_0_5_away",
         "rawType": "float64",
         "type": "float"
        },
        {
         "name": "possession_6_10_home",
         "rawType": "float64",
         "type": "float"
        },
        {
         "name": "possession_6_10_away",
         "rawType": "float64",
         "type": "float"
        },
        {
         "name": "possession_11_15_home",
         "rawType": "float64",
         "type": "float"
        },
        {
         "name": "possession_11_15_away",
         "rawType": "float64",
         "type": "float"
        },
        {
         "name": "possession_16_20_home",
         "rawType": "float64",
         "type": "float"
        },
        {
         "name": "possession_16_20_away",
         "rawType": "float64",
         "type": "float"
        },
        {
         "name": "possession_21_25_home",
         "rawType": "float64",
         "type": "float"
        },
        {
         "name": "possession_21_25_away",
         "rawType": "float64",
         "type": "float"
        },
        {
         "name": "possession_26_30_home",
         "rawType": "float64",
         "type": "float"
        },
        {
         "name": "possession_26_30_away",
         "rawType": "float64",
         "type": "float"
        },
        {
         "name": "possession_31_35_home",
         "rawType": "float64",
         "type": "float"
        },
        {
         "name": "possession_31_35_away",
         "rawType": "float64",
         "type": "float"
        },
        {
         "name": "possession_36_40_home",
         "rawType": "float64",
         "type": "float"
        },
        {
         "name": "possession_36_40_away",
         "rawType": "float64",
         "type": "float"
        },
        {
         "name": "possession_41_45_home",
         "rawType": "float64",
         "type": "float"
        },
        {
         "name": "possession_41_45_away",
         "rawType": "float64",
         "type": "float"
        },
        {
         "name": "possession_46_50_home",
         "rawType": "float64",
         "type": "float"
        },
        {
         "name": "possession_46_50_away",
         "rawType": "float64",
         "type": "float"
        },
        {
         "name": "possession_51_55_home",
         "rawType": "float64",
         "type": "float"
        },
        {
         "name": "possession_51_55_away",
         "rawType": "float64",
         "type": "float"
        },
        {
         "name": "possession_56_60_home",
         "rawType": "float64",
         "type": "float"
        },
        {
         "name": "possession_56_60_away",
         "rawType": "float64",
         "type": "float"
        },
        {
         "name": "possession_61_65_home",
         "rawType": "float64",
         "type": "float"
        },
        {
         "name": "possession_61_65_away",
         "rawType": "float64",
         "type": "float"
        },
        {
         "name": "possession_66_70_home",
         "rawType": "float64",
         "type": "float"
        },
        {
         "name": "possession_66_70_away",
         "rawType": "float64",
         "type": "float"
        },
        {
         "name": "possession_71_75_home",
         "rawType": "float64",
         "type": "float"
        },
        {
         "name": "possession_71_75_away",
         "rawType": "float64",
         "type": "float"
        },
        {
         "name": "possession_76_80_home",
         "rawType": "float64",
         "type": "float"
        },
        {
         "name": "possession_76_80_away",
         "rawType": "float64",
         "type": "float"
        },
        {
         "name": "possession_81_85_home",
         "rawType": "float64",
         "type": "float"
        },
        {
         "name": "possession_81_85_away",
         "rawType": "float64",
         "type": "float"
        },
        {
         "name": "possession_86_90_home",
         "rawType": "float64",
         "type": "float"
        },
        {
         "name": "possession_86_90_away",
         "rawType": "float64",
         "type": "float"
        },
        {
         "name": "xg_Total Team XG_home",
         "rawType": "float64",
         "type": "float"
        },
        {
         "name": "xg_Total Team XG_away",
         "rawType": "float64",
         "type": "float"
        },
        {
         "name": "xg_Shots_home",
         "rawType": "float64",
         "type": "float"
        },
        {
         "name": "xg_Shots_away",
         "rawType": "float64",
         "type": "float"
        },
        {
         "name": "xg_Shots On Target_home",
         "rawType": "float64",
         "type": "float"
        },
        {
         "name": "xg_Shots On Target_away",
         "rawType": "float64",
         "type": "float"
        },
        {
         "name": "teams_home",
         "rawType": "object",
         "type": "string"
        },
        {
         "name": "teams_away",
         "rawType": "object",
         "type": "string"
        },
        {
         "name": "match_date",
         "rawType": "datetime64[ns]",
         "type": "datetime"
        }
       ],
       "ref": "0fc3cd24-290c-41dc-888c-4762131d74ef",
       "rows": [
        [
         "0",
         "48.0",
         "52.0",
         "14.0",
         "12.0",
         "8.0",
         "5.0",
         "3.0",
         "1.0",
         "471.0",
         "492.0",
         "80.3",
         "82.3",
         "7.0",
         "5.0",
         "5.0",
         "13.0",
         "1.0",
         "2.0",
         "19.0",
         "10.0",
         "2.2",
         "3.5",
         "4.0",
         "5.0",
         "4.0",
         "3.0",
         "12.0",
         "15.0",
         "3.0",
         "2.0",
         "0.0",
         "0.0",
         "80.3",
         "82.3",
         "80.1",
         "81.8",
         "66.7",
         "50.0",
         "20.0",
         "30.8",
         "3.0",
         "2.0",
         "8.0",
         "5.0",
         "3.0",
         "5.0",
         "3.0",
         "1.0",
         "2.0",
         "3.0",
         "14.0",
         "12.0",
         "0.0",
         "0.0",
         "3.5",
         "2.2",
         "2.0",
         "0.0",
         "80.3",
         "82.3",
         "80.1",
         "81.8",
         "66.7",
         "50.0",
         "20.0",
         "30.8",
         "50.92",
         "49.08",
         "50.92",
         "49.08",
         "50.92",
         "49.08",
         "50.92",
         "49.08",
         "50.92",
         "49.08",
         "50.92",
         "49.08",
         "50.92",
         "49.08",
         "50.92",
         "49.08",
         "50.92",
         "49.08",
         "50.92",
         "49.08",
         "50.92",
         "49.08",
         "50.92",
         "49.08",
         "50.92",
         "49.08",
         "50.92",
         "49.08",
         "50.92",
         "49.08",
         "50.92",
         "49.08",
         "50.92",
         "49.08",
         "50.92",
         "49.08",
         "2.2",
         "3.5",
         "14.0",
         "12.0",
         "8.0",
         "5.0",
         "ATL",
         "MTL",
         "2025-02-22 00:00:00"
        ]
       ],
       "shape": {
        "columns": 111,
        "rows": 1
       }
      },
      "text/html": [
       "<div>\n",
       "<style scoped>\n",
       "    .dataframe tbody tr th:only-of-type {\n",
       "        vertical-align: middle;\n",
       "    }\n",
       "\n",
       "    .dataframe tbody tr th {\n",
       "        vertical-align: top;\n",
       "    }\n",
       "\n",
       "    .dataframe thead th {\n",
       "        text-align: right;\n",
       "    }\n",
       "</style>\n",
       "<table border=\"1\" class=\"dataframe\">\n",
       "  <thead>\n",
       "    <tr style=\"text-align: right;\">\n",
       "      <th></th>\n",
       "      <th>shooting_Possession %_home</th>\n",
       "      <th>shooting_Possession %_away</th>\n",
       "      <th>shooting_Shots_home</th>\n",
       "      <th>shooting_Shots_away</th>\n",
       "      <th>shooting_Shots on Goal_home</th>\n",
       "      <th>shooting_Shots on Goal_away</th>\n",
       "      <th>shooting_Blocked Shots_home</th>\n",
       "      <th>shooting_Blocked Shots_away</th>\n",
       "      <th>shooting_Total Passes_home</th>\n",
       "      <th>shooting_Total Passes_away</th>\n",
       "      <th>...</th>\n",
       "      <th>possession_86_90_away</th>\n",
       "      <th>xg_Total Team XG_home</th>\n",
       "      <th>xg_Total Team XG_away</th>\n",
       "      <th>xg_Shots_home</th>\n",
       "      <th>xg_Shots_away</th>\n",
       "      <th>xg_Shots On Target_home</th>\n",
       "      <th>xg_Shots On Target_away</th>\n",
       "      <th>teams_home</th>\n",
       "      <th>teams_away</th>\n",
       "      <th>match_date</th>\n",
       "    </tr>\n",
       "  </thead>\n",
       "  <tbody>\n",
       "    <tr>\n",
       "      <th>0</th>\n",
       "      <td>48.0</td>\n",
       "      <td>52.0</td>\n",
       "      <td>14.0</td>\n",
       "      <td>12.0</td>\n",
       "      <td>8.0</td>\n",
       "      <td>5.0</td>\n",
       "      <td>3.0</td>\n",
       "      <td>1.0</td>\n",
       "      <td>471.0</td>\n",
       "      <td>492.0</td>\n",
       "      <td>...</td>\n",
       "      <td>49.08</td>\n",
       "      <td>2.2</td>\n",
       "      <td>3.5</td>\n",
       "      <td>14.0</td>\n",
       "      <td>12.0</td>\n",
       "      <td>8.0</td>\n",
       "      <td>5.0</td>\n",
       "      <td>ATL</td>\n",
       "      <td>MTL</td>\n",
       "      <td>2025-02-22</td>\n",
       "    </tr>\n",
       "  </tbody>\n",
       "</table>\n",
       "<p>1 rows × 111 columns</p>\n",
       "</div>"
      ],
      "text/plain": [
       "   shooting_Possession %_home  shooting_Possession %_away  \\\n",
       "0                        48.0                        52.0   \n",
       "\n",
       "   shooting_Shots_home  shooting_Shots_away  shooting_Shots on Goal_home  \\\n",
       "0                 14.0                 12.0                          8.0   \n",
       "\n",
       "   shooting_Shots on Goal_away  shooting_Blocked Shots_home  \\\n",
       "0                          5.0                          3.0   \n",
       "\n",
       "   shooting_Blocked Shots_away  shooting_Total Passes_home  \\\n",
       "0                          1.0                       471.0   \n",
       "\n",
       "   shooting_Total Passes_away  ...  possession_86_90_away  \\\n",
       "0                       492.0  ...                  49.08   \n",
       "\n",
       "   xg_Total Team XG_home  xg_Total Team XG_away  xg_Shots_home  xg_Shots_away  \\\n",
       "0                    2.2                    3.5           14.0           12.0   \n",
       "\n",
       "   xg_Shots On Target_home  xg_Shots On Target_away  teams_home  teams_away  \\\n",
       "0                      8.0                      5.0         ATL         MTL   \n",
       "\n",
       "   match_date  \n",
       "0  2025-02-22  \n",
       "\n",
       "[1 rows x 111 columns]"
      ]
     },
     "execution_count": 15,
     "metadata": {},
     "output_type": "execute_result"
    }
   ],
   "source": [
    "wide= wide.drop(columns=['date_home'])\n",
    "\n",
    "## rename date_away to match_date\n",
    "\n",
    "wide['match_date'] = wide['date_away']\n",
    "\n",
    "wide = wide.drop(columns=['date_away'])\n",
    "\n",
    "wide"
   ]
  },
  {
   "cell_type": "code",
   "execution_count": 16,
   "id": "aa445c71",
   "metadata": {},
   "outputs": [
    {
     "data": {
      "application/vnd.microsoft.datawrangler.viewer.v0+json": {
       "columns": [
        {
         "name": "index",
         "rawType": "int64",
         "type": "integer"
        },
        {
         "name": "shooting_possession_pct_home",
         "rawType": "float64",
         "type": "float"
        },
        {
         "name": "shooting_possession_pct_away",
         "rawType": "float64",
         "type": "float"
        },
        {
         "name": "shooting_shots_home",
         "rawType": "float64",
         "type": "float"
        },
        {
         "name": "shooting_shots_away",
         "rawType": "float64",
         "type": "float"
        },
        {
         "name": "shooting_shots_on_goal_home",
         "rawType": "float64",
         "type": "float"
        },
        {
         "name": "shooting_shots_on_goal_away",
         "rawType": "float64",
         "type": "float"
        },
        {
         "name": "shooting_blocked_shots_home",
         "rawType": "float64",
         "type": "float"
        },
        {
         "name": "shooting_blocked_shots_away",
         "rawType": "float64",
         "type": "float"
        },
        {
         "name": "shooting_total_passes_home",
         "rawType": "float64",
         "type": "float"
        },
        {
         "name": "shooting_total_passes_away",
         "rawType": "float64",
         "type": "float"
        },
        {
         "name": "shooting_passing_accuracy_pct_home",
         "rawType": "float64",
         "type": "float"
        },
        {
         "name": "shooting_passing_accuracy_pct_away",
         "rawType": "float64",
         "type": "float"
        },
        {
         "name": "shooting_corners_home",
         "rawType": "float64",
         "type": "float"
        },
        {
         "name": "shooting_corners_away",
         "rawType": "float64",
         "type": "float"
        },
        {
         "name": "shooting_total_crosses_home",
         "rawType": "float64",
         "type": "float"
        },
        {
         "name": "shooting_total_crosses_away",
         "rawType": "float64",
         "type": "float"
        },
        {
         "name": "shooting_offsides_home",
         "rawType": "float64",
         "type": "float"
        },
        {
         "name": "shooting_offsides_away",
         "rawType": "float64",
         "type": "float"
        },
        {
         "name": "shooting_aerial_duels_won_home",
         "rawType": "float64",
         "type": "float"
        },
        {
         "name": "shooting_aerial_duels_won_away",
         "rawType": "float64",
         "type": "float"
        },
        {
         "name": "shooting_expected_goals_home",
         "rawType": "float64",
         "type": "float"
        },
        {
         "name": "shooting_expected_goals_away",
         "rawType": "float64",
         "type": "float"
        },
        {
         "name": "shooting_goalkeeper_saves_home",
         "rawType": "float64",
         "type": "float"
        },
        {
         "name": "shooting_goalkeeper_saves_away",
         "rawType": "float64",
         "type": "float"
        },
        {
         "name": "shooting_clearances_home",
         "rawType": "float64",
         "type": "float"
        },
        {
         "name": "shooting_clearances_away",
         "rawType": "float64",
         "type": "float"
        },
        {
         "name": "shooting_fouls_home",
         "rawType": "float64",
         "type": "float"
        },
        {
         "name": "shooting_fouls_away",
         "rawType": "float64",
         "type": "float"
        },
        {
         "name": "shooting_yellow_cards_home",
         "rawType": "float64",
         "type": "float"
        },
        {
         "name": "shooting_yellow_cards_away",
         "rawType": "float64",
         "type": "float"
        },
        {
         "name": "shooting_red_cards_home",
         "rawType": "float64",
         "type": "float"
        },
        {
         "name": "shooting_red_cards_away",
         "rawType": "float64",
         "type": "float"
        },
        {
         "name": "shooting_overall_pct_home",
         "rawType": "float64",
         "type": "float"
        },
        {
         "name": "shooting_overall_pct_away",
         "rawType": "float64",
         "type": "float"
        },
        {
         "name": "shooting_open_play_pass_pct_home",
         "rawType": "float64",
         "type": "float"
        },
        {
         "name": "shooting_open_play_pass_pct_away",
         "rawType": "float64",
         "type": "float"
        },
        {
         "name": "shooting_set_piece_cross_pct_home",
         "rawType": "float64",
         "type": "float"
        },
        {
         "name": "shooting_set_piece_cross_pct_away",
         "rawType": "float64",
         "type": "float"
        },
        {
         "name": "shooting_open_play_cross_pct_home",
         "rawType": "float64",
         "type": "float"
        },
        {
         "name": "shooting_open_play_cross_pct_away",
         "rawType": "float64",
         "type": "float"
        },
        {
         "name": "shooting_goals_home",
         "rawType": "float64",
         "type": "float"
        },
        {
         "name": "shooting_goals_away",
         "rawType": "float64",
         "type": "float"
        },
        {
         "name": "shooting_on_target_home",
         "rawType": "float64",
         "type": "float"
        },
        {
         "name": "shooting_on_target_away",
         "rawType": "float64",
         "type": "float"
        },
        {
         "name": "shooting_off_target_home",
         "rawType": "float64",
         "type": "float"
        },
        {
         "name": "shooting_off_target_away",
         "rawType": "float64",
         "type": "float"
        },
        {
         "name": "shooting_blocked_home",
         "rawType": "float64",
         "type": "float"
        },
        {
         "name": "shooting_blocked_away",
         "rawType": "float64",
         "type": "float"
        },
        {
         "name": "shooting_goals_conceded_home",
         "rawType": "float64",
         "type": "float"
        },
        {
         "name": "shooting_goals_conceded_away",
         "rawType": "float64",
         "type": "float"
        },
        {
         "name": "shooting_shots_against_home",
         "rawType": "float64",
         "type": "float"
        },
        {
         "name": "shooting_shots_against_away",
         "rawType": "float64",
         "type": "float"
        },
        {
         "name": "shooting_clean_sheets_home",
         "rawType": "float64",
         "type": "float"
        },
        {
         "name": "shooting_clean_sheets_away",
         "rawType": "float64",
         "type": "float"
        },
        {
         "name": "shooting_xg_conceded_home",
         "rawType": "float64",
         "type": "float"
        },
        {
         "name": "shooting_xg_conceded_away",
         "rawType": "float64",
         "type": "float"
        },
        {
         "name": "shooting_interceptions_home",
         "rawType": "float64",
         "type": "float"
        },
        {
         "name": "shooting_interceptions_away",
         "rawType": "float64",
         "type": "float"
        },
        {
         "name": "passing_overall_pct_home",
         "rawType": "float64",
         "type": "float"
        },
        {
         "name": "passing_overall_pct_away",
         "rawType": "float64",
         "type": "float"
        },
        {
         "name": "passing_open_play_pass_pct_home",
         "rawType": "float64",
         "type": "float"
        },
        {
         "name": "passing_open_play_pass_pct_away",
         "rawType": "float64",
         "type": "float"
        },
        {
         "name": "passing_set_piece_cross_pct_home",
         "rawType": "float64",
         "type": "float"
        },
        {
         "name": "passing_set_piece_cross_pct_away",
         "rawType": "float64",
         "type": "float"
        },
        {
         "name": "passing_open_play_cross_pct_home",
         "rawType": "float64",
         "type": "float"
        },
        {
         "name": "passing_open_play_cross_pct_away",
         "rawType": "float64",
         "type": "float"
        },
        {
         "name": "possession_0_5_home",
         "rawType": "float64",
         "type": "float"
        },
        {
         "name": "possession_0_5_away",
         "rawType": "float64",
         "type": "float"
        },
        {
         "name": "possession_6_10_home",
         "rawType": "float64",
         "type": "float"
        },
        {
         "name": "possession_6_10_away",
         "rawType": "float64",
         "type": "float"
        },
        {
         "name": "possession_11_15_home",
         "rawType": "float64",
         "type": "float"
        },
        {
         "name": "possession_11_15_away",
         "rawType": "float64",
         "type": "float"
        },
        {
         "name": "possession_16_20_home",
         "rawType": "float64",
         "type": "float"
        },
        {
         "name": "possession_16_20_away",
         "rawType": "float64",
         "type": "float"
        },
        {
         "name": "possession_21_25_home",
         "rawType": "float64",
         "type": "float"
        },
        {
         "name": "possession_21_25_away",
         "rawType": "float64",
         "type": "float"
        },
        {
         "name": "possession_26_30_home",
         "rawType": "float64",
         "type": "float"
        },
        {
         "name": "possession_26_30_away",
         "rawType": "float64",
         "type": "float"
        },
        {
         "name": "possession_31_35_home",
         "rawType": "float64",
         "type": "float"
        },
        {
         "name": "possession_31_35_away",
         "rawType": "float64",
         "type": "float"
        },
        {
         "name": "possession_36_40_home",
         "rawType": "float64",
         "type": "float"
        },
        {
         "name": "possession_36_40_away",
         "rawType": "float64",
         "type": "float"
        },
        {
         "name": "possession_41_45_home",
         "rawType": "float64",
         "type": "float"
        },
        {
         "name": "possession_41_45_away",
         "rawType": "float64",
         "type": "float"
        },
        {
         "name": "possession_46_50_home",
         "rawType": "float64",
         "type": "float"
        },
        {
         "name": "possession_46_50_away",
         "rawType": "float64",
         "type": "float"
        },
        {
         "name": "possession_51_55_home",
         "rawType": "float64",
         "type": "float"
        },
        {
         "name": "possession_51_55_away",
         "rawType": "float64",
         "type": "float"
        },
        {
         "name": "possession_56_60_home",
         "rawType": "float64",
         "type": "float"
        },
        {
         "name": "possession_56_60_away",
         "rawType": "float64",
         "type": "float"
        },
        {
         "name": "possession_61_65_home",
         "rawType": "float64",
         "type": "float"
        },
        {
         "name": "possession_61_65_away",
         "rawType": "float64",
         "type": "float"
        },
        {
         "name": "possession_66_70_home",
         "rawType": "float64",
         "type": "float"
        },
        {
         "name": "possession_66_70_away",
         "rawType": "float64",
         "type": "float"
        },
        {
         "name": "possession_71_75_home",
         "rawType": "float64",
         "type": "float"
        },
        {
         "name": "possession_71_75_away",
         "rawType": "float64",
         "type": "float"
        },
        {
         "name": "possession_76_80_home",
         "rawType": "float64",
         "type": "float"
        },
        {
         "name": "possession_76_80_away",
         "rawType": "float64",
         "type": "float"
        },
        {
         "name": "possession_81_85_home",
         "rawType": "float64",
         "type": "float"
        },
        {
         "name": "possession_81_85_away",
         "rawType": "float64",
         "type": "float"
        },
        {
         "name": "possession_86_90_home",
         "rawType": "float64",
         "type": "float"
        },
        {
         "name": "possession_86_90_away",
         "rawType": "float64",
         "type": "float"
        },
        {
         "name": "xg_total_team_xg_home",
         "rawType": "float64",
         "type": "float"
        },
        {
         "name": "xg_total_team_xg_away",
         "rawType": "float64",
         "type": "float"
        },
        {
         "name": "xg_shots_home",
         "rawType": "float64",
         "type": "float"
        },
        {
         "name": "xg_shots_away",
         "rawType": "float64",
         "type": "float"
        },
        {
         "name": "xg_shots_on_target_home",
         "rawType": "float64",
         "type": "float"
        },
        {
         "name": "xg_shots_on_target_away",
         "rawType": "float64",
         "type": "float"
        },
        {
         "name": "teams_home",
         "rawType": "object",
         "type": "string"
        },
        {
         "name": "teams_away",
         "rawType": "object",
         "type": "string"
        },
        {
         "name": "match_date",
         "rawType": "datetime64[ns]",
         "type": "datetime"
        }
       ],
       "ref": "be6d2c6a-3e00-470f-a0ab-1286d450459f",
       "rows": [
        [
         "0",
         "48.0",
         "52.0",
         "14.0",
         "12.0",
         "8.0",
         "5.0",
         "3.0",
         "1.0",
         "471.0",
         "492.0",
         "80.3",
         "82.3",
         "7.0",
         "5.0",
         "5.0",
         "13.0",
         "1.0",
         "2.0",
         "19.0",
         "10.0",
         "2.2",
         "3.5",
         "4.0",
         "5.0",
         "4.0",
         "3.0",
         "12.0",
         "15.0",
         "3.0",
         "2.0",
         "0.0",
         "0.0",
         "80.3",
         "82.3",
         "80.1",
         "81.8",
         "66.7",
         "50.0",
         "20.0",
         "30.8",
         "3.0",
         "2.0",
         "8.0",
         "5.0",
         "3.0",
         "5.0",
         "3.0",
         "1.0",
         "2.0",
         "3.0",
         "14.0",
         "12.0",
         "0.0",
         "0.0",
         "3.5",
         "2.2",
         "2.0",
         "0.0",
         "80.3",
         "82.3",
         "80.1",
         "81.8",
         "66.7",
         "50.0",
         "20.0",
         "30.8",
         "50.92",
         "49.08",
         "50.92",
         "49.08",
         "50.92",
         "49.08",
         "50.92",
         "49.08",
         "50.92",
         "49.08",
         "50.92",
         "49.08",
         "50.92",
         "49.08",
         "50.92",
         "49.08",
         "50.92",
         "49.08",
         "50.92",
         "49.08",
         "50.92",
         "49.08",
         "50.92",
         "49.08",
         "50.92",
         "49.08",
         "50.92",
         "49.08",
         "50.92",
         "49.08",
         "50.92",
         "49.08",
         "50.92",
         "49.08",
         "50.92",
         "49.08",
         "2.2",
         "3.5",
         "14.0",
         "12.0",
         "8.0",
         "5.0",
         "ATL",
         "MTL",
         "2025-02-22 00:00:00"
        ]
       ],
       "shape": {
        "columns": 111,
        "rows": 1
       }
      },
      "text/html": [
       "<div>\n",
       "<style scoped>\n",
       "    .dataframe tbody tr th:only-of-type {\n",
       "        vertical-align: middle;\n",
       "    }\n",
       "\n",
       "    .dataframe tbody tr th {\n",
       "        vertical-align: top;\n",
       "    }\n",
       "\n",
       "    .dataframe thead th {\n",
       "        text-align: right;\n",
       "    }\n",
       "</style>\n",
       "<table border=\"1\" class=\"dataframe\">\n",
       "  <thead>\n",
       "    <tr style=\"text-align: right;\">\n",
       "      <th></th>\n",
       "      <th>shooting_possession_pct_home</th>\n",
       "      <th>shooting_possession_pct_away</th>\n",
       "      <th>shooting_shots_home</th>\n",
       "      <th>shooting_shots_away</th>\n",
       "      <th>shooting_shots_on_goal_home</th>\n",
       "      <th>shooting_shots_on_goal_away</th>\n",
       "      <th>shooting_blocked_shots_home</th>\n",
       "      <th>shooting_blocked_shots_away</th>\n",
       "      <th>shooting_total_passes_home</th>\n",
       "      <th>shooting_total_passes_away</th>\n",
       "      <th>...</th>\n",
       "      <th>possession_86_90_away</th>\n",
       "      <th>xg_total_team_xg_home</th>\n",
       "      <th>xg_total_team_xg_away</th>\n",
       "      <th>xg_shots_home</th>\n",
       "      <th>xg_shots_away</th>\n",
       "      <th>xg_shots_on_target_home</th>\n",
       "      <th>xg_shots_on_target_away</th>\n",
       "      <th>teams_home</th>\n",
       "      <th>teams_away</th>\n",
       "      <th>match_date</th>\n",
       "    </tr>\n",
       "  </thead>\n",
       "  <tbody>\n",
       "    <tr>\n",
       "      <th>0</th>\n",
       "      <td>48.0</td>\n",
       "      <td>52.0</td>\n",
       "      <td>14.0</td>\n",
       "      <td>12.0</td>\n",
       "      <td>8.0</td>\n",
       "      <td>5.0</td>\n",
       "      <td>3.0</td>\n",
       "      <td>1.0</td>\n",
       "      <td>471.0</td>\n",
       "      <td>492.0</td>\n",
       "      <td>...</td>\n",
       "      <td>49.08</td>\n",
       "      <td>2.2</td>\n",
       "      <td>3.5</td>\n",
       "      <td>14.0</td>\n",
       "      <td>12.0</td>\n",
       "      <td>8.0</td>\n",
       "      <td>5.0</td>\n",
       "      <td>ATL</td>\n",
       "      <td>MTL</td>\n",
       "      <td>2025-02-22</td>\n",
       "    </tr>\n",
       "  </tbody>\n",
       "</table>\n",
       "<p>1 rows × 111 columns</p>\n",
       "</div>"
      ],
      "text/plain": [
       "   shooting_possession_pct_home  shooting_possession_pct_away  \\\n",
       "0                          48.0                          52.0   \n",
       "\n",
       "   shooting_shots_home  shooting_shots_away  shooting_shots_on_goal_home  \\\n",
       "0                 14.0                 12.0                          8.0   \n",
       "\n",
       "   shooting_shots_on_goal_away  shooting_blocked_shots_home  \\\n",
       "0                          5.0                          3.0   \n",
       "\n",
       "   shooting_blocked_shots_away  shooting_total_passes_home  \\\n",
       "0                          1.0                       471.0   \n",
       "\n",
       "   shooting_total_passes_away  ...  possession_86_90_away  \\\n",
       "0                       492.0  ...                  49.08   \n",
       "\n",
       "   xg_total_team_xg_home  xg_total_team_xg_away  xg_shots_home  xg_shots_away  \\\n",
       "0                    2.2                    3.5           14.0           12.0   \n",
       "\n",
       "   xg_shots_on_target_home  xg_shots_on_target_away  teams_home  teams_away  \\\n",
       "0                      8.0                      5.0         ATL         MTL   \n",
       "\n",
       "   match_date  \n",
       "0  2025-02-22  \n",
       "\n",
       "[1 rows x 111 columns]"
      ]
     },
     "execution_count": 16,
     "metadata": {},
     "output_type": "execute_result"
    }
   ],
   "source": [
    "### simplify colnames\n",
    "wide.columns = [c.replace(' ', '_').replace('%', 'pct').replace('-', '_').lower() for c in wide.columns]\n",
    "\n",
    "wide"
   ]
  },
  {
   "cell_type": "code",
   "execution_count": 17,
   "id": "1de035be",
   "metadata": {},
   "outputs": [],
   "source": [
    "## create function to reframe stats\n",
    "\n",
    "def reframe_stats(filename, df):\n",
    "    fname = os.path.basename(filename)\n",
    "\n",
    "    # regex: match 'cleaned_stats_' + home + 'vs' + away + '-' + date + '.csv'\n",
    "    m = re.match(r\"cleaned_stats_([a-z]{2,4})vs([a-z]{2,4})-(\\d{2}-\\d{2}-\\d{4})\\.csv\", fname, re.I)\n",
    "\n",
    "    if m:\n",
    "        home, away, date_str = m.groups()\n",
    "        home, away = home.upper(), away.upper()\n",
    "        date = pd.to_datetime(date_str, format=\"%m-%d-%Y\")\n",
    "\n",
    "        # add rows with stat = date and team = teams\n",
    "        add_df = pd.DataFrame({\n",
    "            'home_value': [home],\n",
    "            'away_value': [away],\n",
    "            'stat': 'teams'\n",
    "        })\n",
    "        \n",
    "        new_row = pd.DataFrame({\n",
    "            'home_value': [date],\n",
    "            'away_value': [date],\n",
    "            'stat': 'date'\n",
    "        })\n",
    "\n",
    "    df = pd.concat([df, add_df], ignore_index=True)\n",
    "\n",
    "    df = pd.concat([df, new_row], ignore_index=True)\n",
    "    out = {}\n",
    "    for _, row in df.iterrows():\n",
    "        out[f\"{row['stat']}_home\"] = row['home_value']\n",
    "        out[f\"{row['stat']}_away\"] = row['away_value']\n",
    "\n",
    "    wide = pd.DataFrame([out])\n",
    "    wide= wide.drop(columns=['date_home'])\n",
    "    wide['match_date'] = wide['date_away']\n",
    "    wide = wide.drop(columns=['date_away'])\n",
    "    wide.columns = [c.replace(' ', '_').replace('%', 'pct').replace('-', '_').lower() for c in wide.columns]\n",
    "    return wide\n",
    "\n",
    "\n",
    "dfidk = pd.read_csv('cleaned_stats_sdvsatx-05-31-2025.csv')\n",
    "idk2 = reframe_stats('cleaned_stats_sdvsatx-05-31-2025.csv', dfidk)"
   ]
  },
  {
   "cell_type": "code",
   "execution_count": 18,
   "id": "70d79406",
   "metadata": {},
   "outputs": [
    {
     "data": {
      "application/vnd.microsoft.datawrangler.viewer.v0+json": {
       "columns": [
        {
         "name": "index",
         "rawType": "int64",
         "type": "integer"
        },
        {
         "name": "shooting_possession_pct_home",
         "rawType": "float64",
         "type": "float"
        },
        {
         "name": "shooting_possession_pct_away",
         "rawType": "float64",
         "type": "float"
        },
        {
         "name": "shooting_shots_home",
         "rawType": "float64",
         "type": "float"
        },
        {
         "name": "shooting_shots_away",
         "rawType": "float64",
         "type": "float"
        },
        {
         "name": "shooting_shots_on_goal_home",
         "rawType": "float64",
         "type": "float"
        },
        {
         "name": "shooting_shots_on_goal_away",
         "rawType": "float64",
         "type": "float"
        },
        {
         "name": "shooting_blocked_shots_home",
         "rawType": "float64",
         "type": "float"
        },
        {
         "name": "shooting_blocked_shots_away",
         "rawType": "float64",
         "type": "float"
        },
        {
         "name": "shooting_total_passes_home",
         "rawType": "float64",
         "type": "float"
        },
        {
         "name": "shooting_total_passes_away",
         "rawType": "float64",
         "type": "float"
        },
        {
         "name": "shooting_passing_accuracy_pct_home",
         "rawType": "float64",
         "type": "float"
        },
        {
         "name": "shooting_passing_accuracy_pct_away",
         "rawType": "float64",
         "type": "float"
        },
        {
         "name": "shooting_corners_home",
         "rawType": "float64",
         "type": "float"
        },
        {
         "name": "shooting_corners_away",
         "rawType": "float64",
         "type": "float"
        },
        {
         "name": "shooting_total_crosses_home",
         "rawType": "float64",
         "type": "float"
        },
        {
         "name": "shooting_total_crosses_away",
         "rawType": "float64",
         "type": "float"
        },
        {
         "name": "shooting_offsides_home",
         "rawType": "float64",
         "type": "float"
        },
        {
         "name": "shooting_offsides_away",
         "rawType": "float64",
         "type": "float"
        },
        {
         "name": "shooting_aerial_duels_won_home",
         "rawType": "float64",
         "type": "float"
        },
        {
         "name": "shooting_aerial_duels_won_away",
         "rawType": "float64",
         "type": "float"
        },
        {
         "name": "shooting_expected_goals_home",
         "rawType": "float64",
         "type": "float"
        },
        {
         "name": "shooting_expected_goals_away",
         "rawType": "float64",
         "type": "float"
        },
        {
         "name": "shooting_goalkeeper_saves_home",
         "rawType": "float64",
         "type": "float"
        },
        {
         "name": "shooting_goalkeeper_saves_away",
         "rawType": "float64",
         "type": "float"
        },
        {
         "name": "shooting_clearances_home",
         "rawType": "float64",
         "type": "float"
        },
        {
         "name": "shooting_clearances_away",
         "rawType": "float64",
         "type": "float"
        },
        {
         "name": "shooting_fouls_home",
         "rawType": "float64",
         "type": "float"
        },
        {
         "name": "shooting_fouls_away",
         "rawType": "float64",
         "type": "float"
        },
        {
         "name": "shooting_yellow_cards_home",
         "rawType": "float64",
         "type": "float"
        },
        {
         "name": "shooting_yellow_cards_away",
         "rawType": "float64",
         "type": "float"
        },
        {
         "name": "shooting_red_cards_home",
         "rawType": "float64",
         "type": "float"
        },
        {
         "name": "shooting_red_cards_away",
         "rawType": "float64",
         "type": "float"
        },
        {
         "name": "shooting_overall_pct_home",
         "rawType": "float64",
         "type": "float"
        },
        {
         "name": "shooting_overall_pct_away",
         "rawType": "float64",
         "type": "float"
        },
        {
         "name": "shooting_open_play_pass_pct_home",
         "rawType": "float64",
         "type": "float"
        },
        {
         "name": "shooting_open_play_pass_pct_away",
         "rawType": "float64",
         "type": "float"
        },
        {
         "name": "shooting_set_piece_cross_pct_home",
         "rawType": "float64",
         "type": "float"
        },
        {
         "name": "shooting_set_piece_cross_pct_away",
         "rawType": "float64",
         "type": "float"
        },
        {
         "name": "shooting_open_play_cross_pct_home",
         "rawType": "float64",
         "type": "float"
        },
        {
         "name": "shooting_open_play_cross_pct_away",
         "rawType": "float64",
         "type": "float"
        },
        {
         "name": "shooting_goals_home",
         "rawType": "float64",
         "type": "float"
        },
        {
         "name": "shooting_goals_away",
         "rawType": "float64",
         "type": "float"
        },
        {
         "name": "shooting_on_target_home",
         "rawType": "float64",
         "type": "float"
        },
        {
         "name": "shooting_on_target_away",
         "rawType": "float64",
         "type": "float"
        },
        {
         "name": "shooting_off_target_home",
         "rawType": "float64",
         "type": "float"
        },
        {
         "name": "shooting_off_target_away",
         "rawType": "float64",
         "type": "float"
        },
        {
         "name": "shooting_blocked_home",
         "rawType": "float64",
         "type": "float"
        },
        {
         "name": "shooting_blocked_away",
         "rawType": "float64",
         "type": "float"
        },
        {
         "name": "shooting_goals_conceded_home",
         "rawType": "float64",
         "type": "float"
        },
        {
         "name": "shooting_goals_conceded_away",
         "rawType": "float64",
         "type": "float"
        },
        {
         "name": "shooting_shots_against_home",
         "rawType": "float64",
         "type": "float"
        },
        {
         "name": "shooting_shots_against_away",
         "rawType": "float64",
         "type": "float"
        },
        {
         "name": "shooting_clean_sheets_home",
         "rawType": "float64",
         "type": "float"
        },
        {
         "name": "shooting_clean_sheets_away",
         "rawType": "float64",
         "type": "float"
        },
        {
         "name": "shooting_xg_conceded_home",
         "rawType": "float64",
         "type": "float"
        },
        {
         "name": "shooting_xg_conceded_away",
         "rawType": "float64",
         "type": "float"
        },
        {
         "name": "shooting_interceptions_home",
         "rawType": "float64",
         "type": "float"
        },
        {
         "name": "shooting_interceptions_away",
         "rawType": "float64",
         "type": "float"
        },
        {
         "name": "passing_overall_pct_home",
         "rawType": "float64",
         "type": "float"
        },
        {
         "name": "passing_overall_pct_away",
         "rawType": "float64",
         "type": "float"
        },
        {
         "name": "passing_open_play_pass_pct_home",
         "rawType": "float64",
         "type": "float"
        },
        {
         "name": "passing_open_play_pass_pct_away",
         "rawType": "float64",
         "type": "float"
        },
        {
         "name": "passing_set_piece_cross_pct_home",
         "rawType": "float64",
         "type": "float"
        },
        {
         "name": "passing_set_piece_cross_pct_away",
         "rawType": "float64",
         "type": "float"
        },
        {
         "name": "passing_open_play_cross_pct_home",
         "rawType": "float64",
         "type": "float"
        },
        {
         "name": "passing_open_play_cross_pct_away",
         "rawType": "float64",
         "type": "float"
        },
        {
         "name": "possession_0_5_home",
         "rawType": "float64",
         "type": "float"
        },
        {
         "name": "possession_0_5_away",
         "rawType": "float64",
         "type": "float"
        },
        {
         "name": "possession_6_10_home",
         "rawType": "float64",
         "type": "float"
        },
        {
         "name": "possession_6_10_away",
         "rawType": "float64",
         "type": "float"
        },
        {
         "name": "possession_11_15_home",
         "rawType": "float64",
         "type": "float"
        },
        {
         "name": "possession_11_15_away",
         "rawType": "float64",
         "type": "float"
        },
        {
         "name": "possession_16_20_home",
         "rawType": "float64",
         "type": "float"
        },
        {
         "name": "possession_16_20_away",
         "rawType": "float64",
         "type": "float"
        },
        {
         "name": "possession_21_25_home",
         "rawType": "float64",
         "type": "float"
        },
        {
         "name": "possession_21_25_away",
         "rawType": "float64",
         "type": "float"
        },
        {
         "name": "possession_26_30_home",
         "rawType": "float64",
         "type": "float"
        },
        {
         "name": "possession_26_30_away",
         "rawType": "float64",
         "type": "float"
        },
        {
         "name": "possession_31_35_home",
         "rawType": "float64",
         "type": "float"
        },
        {
         "name": "possession_31_35_away",
         "rawType": "float64",
         "type": "float"
        },
        {
         "name": "possession_36_40_home",
         "rawType": "float64",
         "type": "float"
        },
        {
         "name": "possession_36_40_away",
         "rawType": "float64",
         "type": "float"
        },
        {
         "name": "possession_41_45_home",
         "rawType": "float64",
         "type": "float"
        },
        {
         "name": "possession_41_45_away",
         "rawType": "float64",
         "type": "float"
        },
        {
         "name": "possession_46_50_home",
         "rawType": "float64",
         "type": "float"
        },
        {
         "name": "possession_46_50_away",
         "rawType": "float64",
         "type": "float"
        },
        {
         "name": "possession_51_55_home",
         "rawType": "float64",
         "type": "float"
        },
        {
         "name": "possession_51_55_away",
         "rawType": "float64",
         "type": "float"
        },
        {
         "name": "possession_56_60_home",
         "rawType": "float64",
         "type": "float"
        },
        {
         "name": "possession_56_60_away",
         "rawType": "float64",
         "type": "float"
        },
        {
         "name": "possession_61_65_home",
         "rawType": "float64",
         "type": "float"
        },
        {
         "name": "possession_61_65_away",
         "rawType": "float64",
         "type": "float"
        },
        {
         "name": "possession_66_70_home",
         "rawType": "float64",
         "type": "float"
        },
        {
         "name": "possession_66_70_away",
         "rawType": "float64",
         "type": "float"
        },
        {
         "name": "possession_71_75_home",
         "rawType": "float64",
         "type": "float"
        },
        {
         "name": "possession_71_75_away",
         "rawType": "float64",
         "type": "float"
        },
        {
         "name": "possession_76_80_home",
         "rawType": "float64",
         "type": "float"
        },
        {
         "name": "possession_76_80_away",
         "rawType": "float64",
         "type": "float"
        },
        {
         "name": "possession_81_85_home",
         "rawType": "float64",
         "type": "float"
        },
        {
         "name": "possession_81_85_away",
         "rawType": "float64",
         "type": "float"
        },
        {
         "name": "possession_86_90_home",
         "rawType": "float64",
         "type": "float"
        },
        {
         "name": "possession_86_90_away",
         "rawType": "float64",
         "type": "float"
        },
        {
         "name": "xg_total_team_xg_home",
         "rawType": "float64",
         "type": "float"
        },
        {
         "name": "xg_total_team_xg_away",
         "rawType": "float64",
         "type": "float"
        },
        {
         "name": "xg_shots_home",
         "rawType": "float64",
         "type": "float"
        },
        {
         "name": "xg_shots_away",
         "rawType": "float64",
         "type": "float"
        },
        {
         "name": "xg_shots_on_target_home",
         "rawType": "float64",
         "type": "float"
        },
        {
         "name": "xg_shots_on_target_away",
         "rawType": "float64",
         "type": "float"
        },
        {
         "name": "teams_home",
         "rawType": "object",
         "type": "string"
        },
        {
         "name": "teams_away",
         "rawType": "object",
         "type": "string"
        },
        {
         "name": "match_date",
         "rawType": "datetime64[ns]",
         "type": "datetime"
        }
       ],
       "ref": "fbbd9823-4356-4914-9085-012e82ec91f5",
       "rows": [
        [
         "0",
         "58.1",
         "41.9",
         "12.0",
         "8.0",
         "4.0",
         "2.0",
         "1.0",
         "2.0",
         "601.0",
         "377.0",
         "88.5",
         "84.3",
         "5.0",
         "3.0",
         "5.0",
         "3.0",
         "1.0",
         "1.0",
         "9.0",
         "6.0",
         "2.0",
         "0.5",
         "2.0",
         "2.0",
         "1.0",
         "7.0",
         "13.0",
         "13.0",
         "2.0",
         "1.0",
         "0.0",
         "0.0",
         "88.5",
         "84.3",
         "88.3",
         "85.1",
         "25.0",
         "33.3",
         "40.0",
         "33.3",
         "2.0",
         "0.0",
         "4.0",
         "2.0",
         "6.0",
         "3.0",
         "1.0",
         "2.0",
         "0.0",
         "2.0",
         "12.0",
         "8.0",
         "0.0",
         "0.0",
         "0.5",
         "2.0",
         "0.0",
         "2.0",
         "88.5",
         "84.3",
         "88.3",
         "85.1",
         "25.0",
         "33.3",
         "40.0",
         "33.3",
         "88.33",
         "11.67",
         "88.33",
         "11.67",
         "88.33",
         "11.67",
         "88.33",
         "11.67",
         "88.33",
         "11.67",
         "88.33",
         "11.67",
         "88.33",
         "11.67",
         "88.33",
         "11.67",
         "88.33",
         "11.67",
         "88.33",
         "11.67",
         "88.33",
         "11.67",
         "88.33",
         "11.67",
         "88.33",
         "11.67",
         "88.33",
         "11.67",
         "88.33",
         "11.67",
         "88.33",
         "11.67",
         "88.33",
         "11.67",
         "88.33",
         "11.67",
         "2.0",
         "0.5",
         "12.0",
         "8.0",
         "4.0",
         "2.0",
         "SD",
         "ATX",
         "2025-05-31 00:00:00"
        ]
       ],
       "shape": {
        "columns": 111,
        "rows": 1
       }
      },
      "text/html": [
       "<div>\n",
       "<style scoped>\n",
       "    .dataframe tbody tr th:only-of-type {\n",
       "        vertical-align: middle;\n",
       "    }\n",
       "\n",
       "    .dataframe tbody tr th {\n",
       "        vertical-align: top;\n",
       "    }\n",
       "\n",
       "    .dataframe thead th {\n",
       "        text-align: right;\n",
       "    }\n",
       "</style>\n",
       "<table border=\"1\" class=\"dataframe\">\n",
       "  <thead>\n",
       "    <tr style=\"text-align: right;\">\n",
       "      <th></th>\n",
       "      <th>shooting_possession_pct_home</th>\n",
       "      <th>shooting_possession_pct_away</th>\n",
       "      <th>shooting_shots_home</th>\n",
       "      <th>shooting_shots_away</th>\n",
       "      <th>shooting_shots_on_goal_home</th>\n",
       "      <th>shooting_shots_on_goal_away</th>\n",
       "      <th>shooting_blocked_shots_home</th>\n",
       "      <th>shooting_blocked_shots_away</th>\n",
       "      <th>shooting_total_passes_home</th>\n",
       "      <th>shooting_total_passes_away</th>\n",
       "      <th>...</th>\n",
       "      <th>possession_86_90_away</th>\n",
       "      <th>xg_total_team_xg_home</th>\n",
       "      <th>xg_total_team_xg_away</th>\n",
       "      <th>xg_shots_home</th>\n",
       "      <th>xg_shots_away</th>\n",
       "      <th>xg_shots_on_target_home</th>\n",
       "      <th>xg_shots_on_target_away</th>\n",
       "      <th>teams_home</th>\n",
       "      <th>teams_away</th>\n",
       "      <th>match_date</th>\n",
       "    </tr>\n",
       "  </thead>\n",
       "  <tbody>\n",
       "    <tr>\n",
       "      <th>0</th>\n",
       "      <td>58.1</td>\n",
       "      <td>41.9</td>\n",
       "      <td>12.0</td>\n",
       "      <td>8.0</td>\n",
       "      <td>4.0</td>\n",
       "      <td>2.0</td>\n",
       "      <td>1.0</td>\n",
       "      <td>2.0</td>\n",
       "      <td>601.0</td>\n",
       "      <td>377.0</td>\n",
       "      <td>...</td>\n",
       "      <td>11.67</td>\n",
       "      <td>2.0</td>\n",
       "      <td>0.5</td>\n",
       "      <td>12.0</td>\n",
       "      <td>8.0</td>\n",
       "      <td>4.0</td>\n",
       "      <td>2.0</td>\n",
       "      <td>SD</td>\n",
       "      <td>ATX</td>\n",
       "      <td>2025-05-31</td>\n",
       "    </tr>\n",
       "  </tbody>\n",
       "</table>\n",
       "<p>1 rows × 111 columns</p>\n",
       "</div>"
      ],
      "text/plain": [
       "   shooting_possession_pct_home  shooting_possession_pct_away  \\\n",
       "0                          58.1                          41.9   \n",
       "\n",
       "   shooting_shots_home  shooting_shots_away  shooting_shots_on_goal_home  \\\n",
       "0                 12.0                  8.0                          4.0   \n",
       "\n",
       "   shooting_shots_on_goal_away  shooting_blocked_shots_home  \\\n",
       "0                          2.0                          1.0   \n",
       "\n",
       "   shooting_blocked_shots_away  shooting_total_passes_home  \\\n",
       "0                          2.0                       601.0   \n",
       "\n",
       "   shooting_total_passes_away  ...  possession_86_90_away  \\\n",
       "0                       377.0  ...                  11.67   \n",
       "\n",
       "   xg_total_team_xg_home  xg_total_team_xg_away  xg_shots_home  xg_shots_away  \\\n",
       "0                    2.0                    0.5           12.0            8.0   \n",
       "\n",
       "   xg_shots_on_target_home  xg_shots_on_target_away  teams_home  teams_away  \\\n",
       "0                      4.0                      2.0          SD         ATX   \n",
       "\n",
       "   match_date  \n",
       "0  2025-05-31  \n",
       "\n",
       "[1 rows x 111 columns]"
      ]
     },
     "execution_count": 18,
     "metadata": {},
     "output_type": "execute_result"
    }
   ],
   "source": [
    "idk2"
   ]
  },
  {
   "cell_type": "code",
   "execution_count": 19,
   "id": "6c20ab14",
   "metadata": {},
   "outputs": [],
   "source": [
    "import glob\n",
    "import os"
   ]
  },
  {
   "cell_type": "code",
   "execution_count": 20,
   "id": "02219af8",
   "metadata": {},
   "outputs": [],
   "source": [
    "for file in glob.glob('*.csv'):\n",
    "    filename = os.path.basename(file)\n",
    "    df = pd.read_csv(file)\n",
    "    cleaned_df = reframe_stats(filename, df)\n",
    "    cleaned_df.to_csv(\n",
    "        f\"G:/My Drive/GitHubProjects/MLS/data/data_clean/matches/raw/reframed_stats/{filename}\",\n",
    "        index=False)"
   ]
  }
 ],
 "metadata": {
  "kernelspec": {
   "display_name": "Python 3",
   "language": "python",
   "name": "python3"
  },
  "language_info": {
   "codemirror_mode": {
    "name": "ipython",
    "version": 3
   },
   "file_extension": ".py",
   "mimetype": "text/x-python",
   "name": "python",
   "nbconvert_exporter": "python",
   "pygments_lexer": "ipython3",
   "version": "3.13.5"
  }
 },
 "nbformat": 4,
 "nbformat_minor": 5
}
