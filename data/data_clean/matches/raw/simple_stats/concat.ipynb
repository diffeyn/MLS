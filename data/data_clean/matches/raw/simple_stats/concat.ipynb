{
 "cells": [
  {
   "cell_type": "code",
   "execution_count": 1,
   "id": "6cebbcaa",
   "metadata": {},
   "outputs": [],
   "source": [
    "import pandas as pd\n",
    "from pathlib import Path"
   ]
  },
  {
   "cell_type": "code",
   "execution_count": 2,
   "id": "22fab809",
   "metadata": {},
   "outputs": [],
   "source": [
    "matches = []\n",
    "\n",
    "files = Path('G:/My Drive/GitHubProjects/MLS/data/data_clean/matches/raw/simple_stats/').rglob('*.csv')\n",
    "\n",
    "for file in files:\n",
    "    df = pd.read_csv(file)\n",
    "    matches.append(df)\n",
    "    \n",
    "all_matches = pd.concat(matches, ignore_index=True)\n",
    "\n",
    "all_matches.to_csv('all_matches.csv', index=False)"
   ]
  }
 ],
 "metadata": {
  "kernelspec": {
   "display_name": "Python 3",
   "language": "python",
   "name": "python3"
  },
  "language_info": {
   "codemirror_mode": {
    "name": "ipython",
    "version": 3
   },
   "file_extension": ".py",
   "mimetype": "text/x-python",
   "name": "python",
   "nbconvert_exporter": "python",
   "pygments_lexer": "ipython3",
   "version": "3.13.5"
  }
 },
 "nbformat": 4,
 "nbformat_minor": 5
}
