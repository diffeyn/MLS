{
 "cells": [
  {
   "cell_type": "code",
   "execution_count": 2,
   "id": "f6f3e6d7",
   "metadata": {},
   "outputs": [],
   "source": [
    "import pandas as pd"
   ]
  },
  {
   "cell_type": "code",
   "execution_count": 3,
   "id": "f4027dad",
   "metadata": {},
   "outputs": [],
   "source": [
    "df = pd.read_csv('g:/My Drive/GitHubProjects/MLS/data/data_clean/matches/raw/reframed_stats/cleaned_stats_atlvsmtl-02-22-2025.csv')"
   ]
  },
  {
   "cell_type": "code",
   "execution_count": 4,
   "id": "5756bd71",
   "metadata": {},
   "outputs": [
    {
     "data": {
      "application/vnd.microsoft.datawrangler.viewer.v0+json": {
       "columns": [
        {
         "name": "index",
         "rawType": "int64",
         "type": "integer"
        },
        {
         "name": "shooting_possession_pct_home",
         "rawType": "float64",
         "type": "float"
        },
        {
         "name": "shooting_possession_pct_away",
         "rawType": "float64",
         "type": "float"
        },
        {
         "name": "shooting_shots_home",
         "rawType": "float64",
         "type": "float"
        },
        {
         "name": "shooting_shots_away",
         "rawType": "float64",
         "type": "float"
        },
        {
         "name": "shooting_shots_on_goal_home",
         "rawType": "float64",
         "type": "float"
        },
        {
         "name": "shooting_shots_on_goal_away",
         "rawType": "float64",
         "type": "float"
        },
        {
         "name": "shooting_blocked_shots_home",
         "rawType": "float64",
         "type": "float"
        },
        {
         "name": "shooting_blocked_shots_away",
         "rawType": "float64",
         "type": "float"
        },
        {
         "name": "shooting_total_passes_home",
         "rawType": "float64",
         "type": "float"
        },
        {
         "name": "shooting_total_passes_away",
         "rawType": "float64",
         "type": "float"
        },
        {
         "name": "shooting_passing_accuracy_pct_home",
         "rawType": "float64",
         "type": "float"
        },
        {
         "name": "shooting_passing_accuracy_pct_away",
         "rawType": "float64",
         "type": "float"
        },
        {
         "name": "shooting_corners_home",
         "rawType": "float64",
         "type": "float"
        },
        {
         "name": "shooting_corners_away",
         "rawType": "float64",
         "type": "float"
        },
        {
         "name": "shooting_total_crosses_home",
         "rawType": "float64",
         "type": "float"
        },
        {
         "name": "shooting_total_crosses_away",
         "rawType": "float64",
         "type": "float"
        },
        {
         "name": "shooting_offsides_home",
         "rawType": "float64",
         "type": "float"
        },
        {
         "name": "shooting_offsides_away",
         "rawType": "float64",
         "type": "float"
        },
        {
         "name": "shooting_aerial_duels_won_home",
         "rawType": "float64",
         "type": "float"
        },
        {
         "name": "shooting_aerial_duels_won_away",
         "rawType": "float64",
         "type": "float"
        },
        {
         "name": "shooting_expected_goals_home",
         "rawType": "float64",
         "type": "float"
        },
        {
         "name": "shooting_expected_goals_away",
         "rawType": "float64",
         "type": "float"
        },
        {
         "name": "shooting_goalkeeper_saves_home",
         "rawType": "float64",
         "type": "float"
        },
        {
         "name": "shooting_goalkeeper_saves_away",
         "rawType": "float64",
         "type": "float"
        },
        {
         "name": "shooting_clearances_home",
         "rawType": "float64",
         "type": "float"
        },
        {
         "name": "shooting_clearances_away",
         "rawType": "float64",
         "type": "float"
        },
        {
         "name": "shooting_fouls_home",
         "rawType": "float64",
         "type": "float"
        },
        {
         "name": "shooting_fouls_away",
         "rawType": "float64",
         "type": "float"
        },
        {
         "name": "shooting_yellow_cards_home",
         "rawType": "float64",
         "type": "float"
        },
        {
         "name": "shooting_yellow_cards_away",
         "rawType": "float64",
         "type": "float"
        },
        {
         "name": "shooting_red_cards_home",
         "rawType": "float64",
         "type": "float"
        },
        {
         "name": "shooting_red_cards_away",
         "rawType": "float64",
         "type": "float"
        },
        {
         "name": "shooting_overall_pct_home",
         "rawType": "float64",
         "type": "float"
        },
        {
         "name": "shooting_overall_pct_away",
         "rawType": "float64",
         "type": "float"
        },
        {
         "name": "shooting_open_play_pass_pct_home",
         "rawType": "float64",
         "type": "float"
        },
        {
         "name": "shooting_open_play_pass_pct_away",
         "rawType": "float64",
         "type": "float"
        },
        {
         "name": "shooting_set_piece_cross_pct_home",
         "rawType": "float64",
         "type": "float"
        },
        {
         "name": "shooting_set_piece_cross_pct_away",
         "rawType": "float64",
         "type": "float"
        },
        {
         "name": "shooting_open_play_cross_pct_home",
         "rawType": "float64",
         "type": "float"
        },
        {
         "name": "shooting_open_play_cross_pct_away",
         "rawType": "float64",
         "type": "float"
        },
        {
         "name": "shooting_goals_home",
         "rawType": "float64",
         "type": "float"
        },
        {
         "name": "shooting_goals_away",
         "rawType": "float64",
         "type": "float"
        },
        {
         "name": "shooting_on_target_home",
         "rawType": "float64",
         "type": "float"
        },
        {
         "name": "shooting_on_target_away",
         "rawType": "float64",
         "type": "float"
        },
        {
         "name": "shooting_off_target_home",
         "rawType": "float64",
         "type": "float"
        },
        {
         "name": "shooting_off_target_away",
         "rawType": "float64",
         "type": "float"
        },
        {
         "name": "shooting_blocked_home",
         "rawType": "float64",
         "type": "float"
        },
        {
         "name": "shooting_blocked_away",
         "rawType": "float64",
         "type": "float"
        },
        {
         "name": "shooting_goals_conceded_home",
         "rawType": "float64",
         "type": "float"
        },
        {
         "name": "shooting_goals_conceded_away",
         "rawType": "float64",
         "type": "float"
        },
        {
         "name": "shooting_shots_against_home",
         "rawType": "float64",
         "type": "float"
        },
        {
         "name": "shooting_shots_against_away",
         "rawType": "float64",
         "type": "float"
        },
        {
         "name": "shooting_clean_sheets_home",
         "rawType": "float64",
         "type": "float"
        },
        {
         "name": "shooting_clean_sheets_away",
         "rawType": "float64",
         "type": "float"
        },
        {
         "name": "shooting_xg_conceded_home",
         "rawType": "float64",
         "type": "float"
        },
        {
         "name": "shooting_xg_conceded_away",
         "rawType": "float64",
         "type": "float"
        },
        {
         "name": "shooting_interceptions_home",
         "rawType": "float64",
         "type": "float"
        },
        {
         "name": "shooting_interceptions_away",
         "rawType": "float64",
         "type": "float"
        },
        {
         "name": "passing_overall_pct_home",
         "rawType": "float64",
         "type": "float"
        },
        {
         "name": "passing_overall_pct_away",
         "rawType": "float64",
         "type": "float"
        },
        {
         "name": "passing_open_play_pass_pct_home",
         "rawType": "float64",
         "type": "float"
        },
        {
         "name": "passing_open_play_pass_pct_away",
         "rawType": "float64",
         "type": "float"
        },
        {
         "name": "passing_set_piece_cross_pct_home",
         "rawType": "float64",
         "type": "float"
        },
        {
         "name": "passing_set_piece_cross_pct_away",
         "rawType": "float64",
         "type": "float"
        },
        {
         "name": "passing_open_play_cross_pct_home",
         "rawType": "float64",
         "type": "float"
        },
        {
         "name": "passing_open_play_cross_pct_away",
         "rawType": "float64",
         "type": "float"
        },
        {
         "name": "possession_0_5_home",
         "rawType": "float64",
         "type": "float"
        },
        {
         "name": "possession_0_5_away",
         "rawType": "float64",
         "type": "float"
        },
        {
         "name": "possession_6_10_home",
         "rawType": "float64",
         "type": "float"
        },
        {
         "name": "possession_6_10_away",
         "rawType": "float64",
         "type": "float"
        },
        {
         "name": "possession_11_15_home",
         "rawType": "float64",
         "type": "float"
        },
        {
         "name": "possession_11_15_away",
         "rawType": "float64",
         "type": "float"
        },
        {
         "name": "possession_16_20_home",
         "rawType": "float64",
         "type": "float"
        },
        {
         "name": "possession_16_20_away",
         "rawType": "float64",
         "type": "float"
        },
        {
         "name": "possession_21_25_home",
         "rawType": "float64",
         "type": "float"
        },
        {
         "name": "possession_21_25_away",
         "rawType": "float64",
         "type": "float"
        },
        {
         "name": "possession_26_30_home",
         "rawType": "float64",
         "type": "float"
        },
        {
         "name": "possession_26_30_away",
         "rawType": "float64",
         "type": "float"
        },
        {
         "name": "possession_31_35_home",
         "rawType": "float64",
         "type": "float"
        },
        {
         "name": "possession_31_35_away",
         "rawType": "float64",
         "type": "float"
        },
        {
         "name": "possession_36_40_home",
         "rawType": "float64",
         "type": "float"
        },
        {
         "name": "possession_36_40_away",
         "rawType": "float64",
         "type": "float"
        },
        {
         "name": "possession_41_45_home",
         "rawType": "float64",
         "type": "float"
        },
        {
         "name": "possession_41_45_away",
         "rawType": "float64",
         "type": "float"
        },
        {
         "name": "possession_46_50_home",
         "rawType": "float64",
         "type": "float"
        },
        {
         "name": "possession_46_50_away",
         "rawType": "float64",
         "type": "float"
        },
        {
         "name": "possession_51_55_home",
         "rawType": "float64",
         "type": "float"
        },
        {
         "name": "possession_51_55_away",
         "rawType": "float64",
         "type": "float"
        },
        {
         "name": "possession_56_60_home",
         "rawType": "float64",
         "type": "float"
        },
        {
         "name": "possession_56_60_away",
         "rawType": "float64",
         "type": "float"
        },
        {
         "name": "possession_61_65_home",
         "rawType": "float64",
         "type": "float"
        },
        {
         "name": "possession_61_65_away",
         "rawType": "float64",
         "type": "float"
        },
        {
         "name": "possession_66_70_home",
         "rawType": "float64",
         "type": "float"
        },
        {
         "name": "possession_66_70_away",
         "rawType": "float64",
         "type": "float"
        },
        {
         "name": "possession_71_75_home",
         "rawType": "float64",
         "type": "float"
        },
        {
         "name": "possession_71_75_away",
         "rawType": "float64",
         "type": "float"
        },
        {
         "name": "possession_76_80_home",
         "rawType": "float64",
         "type": "float"
        },
        {
         "name": "possession_76_80_away",
         "rawType": "float64",
         "type": "float"
        },
        {
         "name": "possession_81_85_home",
         "rawType": "float64",
         "type": "float"
        },
        {
         "name": "possession_81_85_away",
         "rawType": "float64",
         "type": "float"
        },
        {
         "name": "possession_86_90_home",
         "rawType": "float64",
         "type": "float"
        },
        {
         "name": "possession_86_90_away",
         "rawType": "float64",
         "type": "float"
        },
        {
         "name": "xg_total_team_xg_home",
         "rawType": "float64",
         "type": "float"
        },
        {
         "name": "xg_total_team_xg_away",
         "rawType": "float64",
         "type": "float"
        },
        {
         "name": "xg_shots_home",
         "rawType": "float64",
         "type": "float"
        },
        {
         "name": "xg_shots_away",
         "rawType": "float64",
         "type": "float"
        },
        {
         "name": "xg_shots_on_target_home",
         "rawType": "float64",
         "type": "float"
        },
        {
         "name": "xg_shots_on_target_away",
         "rawType": "float64",
         "type": "float"
        },
        {
         "name": "teams_home",
         "rawType": "object",
         "type": "string"
        },
        {
         "name": "teams_away",
         "rawType": "object",
         "type": "string"
        },
        {
         "name": "match_date",
         "rawType": "object",
         "type": "string"
        }
       ],
       "ref": "ec226717-fef9-4782-94dd-8a73accdf320",
       "rows": [
        [
         "0",
         "48.0",
         "52.0",
         "14.0",
         "12.0",
         "8.0",
         "5.0",
         "3.0",
         "1.0",
         "471.0",
         "492.0",
         "80.3",
         "82.3",
         "7.0",
         "5.0",
         "5.0",
         "13.0",
         "1.0",
         "2.0",
         "19.0",
         "10.0",
         "2.2",
         "3.5",
         "4.0",
         "5.0",
         "4.0",
         "3.0",
         "12.0",
         "15.0",
         "3.0",
         "2.0",
         "0.0",
         "0.0",
         "80.3",
         "82.3",
         "80.1",
         "81.8",
         "66.7",
         "50.0",
         "20.0",
         "30.8",
         "3.0",
         "2.0",
         "8.0",
         "5.0",
         "3.0",
         "5.0",
         "3.0",
         "1.0",
         "2.0",
         "3.0",
         "14.0",
         "12.0",
         "0.0",
         "0.0",
         "3.5",
         "2.2",
         "2.0",
         "0.0",
         "80.3",
         "82.3",
         "80.1",
         "81.8",
         "66.7",
         "50.0",
         "20.0",
         "30.8",
         "50.92",
         "49.08",
         "50.92",
         "49.08",
         "50.92",
         "49.08",
         "50.92",
         "49.08",
         "50.92",
         "49.08",
         "50.92",
         "49.08",
         "50.92",
         "49.08",
         "50.92",
         "49.08",
         "50.92",
         "49.08",
         "50.92",
         "49.08",
         "50.92",
         "49.08",
         "50.92",
         "49.08",
         "50.92",
         "49.08",
         "50.92",
         "49.08",
         "50.92",
         "49.08",
         "50.92",
         "49.08",
         "50.92",
         "49.08",
         "50.92",
         "49.08",
         "2.2",
         "3.5",
         "14.0",
         "12.0",
         "8.0",
         "5.0",
         "ATL",
         "MTL",
         "2025-02-22"
        ]
       ],
       "shape": {
        "columns": 111,
        "rows": 1
       }
      },
      "text/html": [
       "<div>\n",
       "<style scoped>\n",
       "    .dataframe tbody tr th:only-of-type {\n",
       "        vertical-align: middle;\n",
       "    }\n",
       "\n",
       "    .dataframe tbody tr th {\n",
       "        vertical-align: top;\n",
       "    }\n",
       "\n",
       "    .dataframe thead th {\n",
       "        text-align: right;\n",
       "    }\n",
       "</style>\n",
       "<table border=\"1\" class=\"dataframe\">\n",
       "  <thead>\n",
       "    <tr style=\"text-align: right;\">\n",
       "      <th></th>\n",
       "      <th>shooting_possession_pct_home</th>\n",
       "      <th>shooting_possession_pct_away</th>\n",
       "      <th>shooting_shots_home</th>\n",
       "      <th>shooting_shots_away</th>\n",
       "      <th>shooting_shots_on_goal_home</th>\n",
       "      <th>shooting_shots_on_goal_away</th>\n",
       "      <th>shooting_blocked_shots_home</th>\n",
       "      <th>shooting_blocked_shots_away</th>\n",
       "      <th>shooting_total_passes_home</th>\n",
       "      <th>shooting_total_passes_away</th>\n",
       "      <th>...</th>\n",
       "      <th>possession_86_90_away</th>\n",
       "      <th>xg_total_team_xg_home</th>\n",
       "      <th>xg_total_team_xg_away</th>\n",
       "      <th>xg_shots_home</th>\n",
       "      <th>xg_shots_away</th>\n",
       "      <th>xg_shots_on_target_home</th>\n",
       "      <th>xg_shots_on_target_away</th>\n",
       "      <th>teams_home</th>\n",
       "      <th>teams_away</th>\n",
       "      <th>match_date</th>\n",
       "    </tr>\n",
       "  </thead>\n",
       "  <tbody>\n",
       "    <tr>\n",
       "      <th>0</th>\n",
       "      <td>48.0</td>\n",
       "      <td>52.0</td>\n",
       "      <td>14.0</td>\n",
       "      <td>12.0</td>\n",
       "      <td>8.0</td>\n",
       "      <td>5.0</td>\n",
       "      <td>3.0</td>\n",
       "      <td>1.0</td>\n",
       "      <td>471.0</td>\n",
       "      <td>492.0</td>\n",
       "      <td>...</td>\n",
       "      <td>49.08</td>\n",
       "      <td>2.2</td>\n",
       "      <td>3.5</td>\n",
       "      <td>14.0</td>\n",
       "      <td>12.0</td>\n",
       "      <td>8.0</td>\n",
       "      <td>5.0</td>\n",
       "      <td>ATL</td>\n",
       "      <td>MTL</td>\n",
       "      <td>2025-02-22</td>\n",
       "    </tr>\n",
       "  </tbody>\n",
       "</table>\n",
       "<p>1 rows × 111 columns</p>\n",
       "</div>"
      ],
      "text/plain": [
       "   shooting_possession_pct_home  shooting_possession_pct_away  \\\n",
       "0                          48.0                          52.0   \n",
       "\n",
       "   shooting_shots_home  shooting_shots_away  shooting_shots_on_goal_home  \\\n",
       "0                 14.0                 12.0                          8.0   \n",
       "\n",
       "   shooting_shots_on_goal_away  shooting_blocked_shots_home  \\\n",
       "0                          5.0                          3.0   \n",
       "\n",
       "   shooting_blocked_shots_away  shooting_total_passes_home  \\\n",
       "0                          1.0                       471.0   \n",
       "\n",
       "   shooting_total_passes_away  ...  possession_86_90_away  \\\n",
       "0                       492.0  ...                  49.08   \n",
       "\n",
       "   xg_total_team_xg_home  xg_total_team_xg_away  xg_shots_home  xg_shots_away  \\\n",
       "0                    2.2                    3.5           14.0           12.0   \n",
       "\n",
       "   xg_shots_on_target_home  xg_shots_on_target_away  teams_home  teams_away  \\\n",
       "0                      8.0                      5.0         ATL         MTL   \n",
       "\n",
       "   match_date  \n",
       "0  2025-02-22  \n",
       "\n",
       "[1 rows x 111 columns]"
      ]
     },
     "execution_count": 4,
     "metadata": {},
     "output_type": "execute_result"
    }
   ],
   "source": [
    "df"
   ]
  },
  {
   "cell_type": "code",
   "execution_count": 5,
   "id": "9719960e",
   "metadata": {},
   "outputs": [],
   "source": [
    "df = df[['shooting_goals_home', 'shooting_goals_away', 'teams_home', 'teams_away']]"
   ]
  },
  {
   "cell_type": "code",
   "execution_count": 6,
   "id": "b3daca05",
   "metadata": {},
   "outputs": [
    {
     "data": {
      "application/vnd.microsoft.datawrangler.viewer.v0+json": {
       "columns": [
        {
         "name": "index",
         "rawType": "int64",
         "type": "integer"
        },
        {
         "name": "shooting_goals_home",
         "rawType": "float64",
         "type": "float"
        },
        {
         "name": "shooting_goals_away",
         "rawType": "float64",
         "type": "float"
        },
        {
         "name": "teams_home",
         "rawType": "object",
         "type": "string"
        },
        {
         "name": "teams_away",
         "rawType": "object",
         "type": "string"
        }
       ],
       "ref": "df1c96fc-5901-4ab3-97a9-60bd428b04fd",
       "rows": [
        [
         "0",
         "3.0",
         "2.0",
         "ATL",
         "MTL"
        ]
       ],
       "shape": {
        "columns": 4,
        "rows": 1
       }
      },
      "text/html": [
       "<div>\n",
       "<style scoped>\n",
       "    .dataframe tbody tr th:only-of-type {\n",
       "        vertical-align: middle;\n",
       "    }\n",
       "\n",
       "    .dataframe tbody tr th {\n",
       "        vertical-align: top;\n",
       "    }\n",
       "\n",
       "    .dataframe thead th {\n",
       "        text-align: right;\n",
       "    }\n",
       "</style>\n",
       "<table border=\"1\" class=\"dataframe\">\n",
       "  <thead>\n",
       "    <tr style=\"text-align: right;\">\n",
       "      <th></th>\n",
       "      <th>shooting_goals_home</th>\n",
       "      <th>shooting_goals_away</th>\n",
       "      <th>teams_home</th>\n",
       "      <th>teams_away</th>\n",
       "    </tr>\n",
       "  </thead>\n",
       "  <tbody>\n",
       "    <tr>\n",
       "      <th>0</th>\n",
       "      <td>3.0</td>\n",
       "      <td>2.0</td>\n",
       "      <td>ATL</td>\n",
       "      <td>MTL</td>\n",
       "    </tr>\n",
       "  </tbody>\n",
       "</table>\n",
       "</div>"
      ],
      "text/plain": [
       "   shooting_goals_home  shooting_goals_away teams_home teams_away\n",
       "0                  3.0                  2.0        ATL        MTL"
      ]
     },
     "execution_count": 6,
     "metadata": {},
     "output_type": "execute_result"
    }
   ],
   "source": [
    "df"
   ]
  },
  {
   "cell_type": "code",
   "execution_count": 8,
   "id": "36df4895",
   "metadata": {},
   "outputs": [],
   "source": [
    "import glob\n",
    "import os\n",
    "\n",
    "def create_simple(df):\n",
    "    df = df[['shooting_goals_home', 'shooting_goals_away', 'teams_home', 'teams_away']]\n",
    "    return df\n",
    "\n",
    "\n",
    "for file in glob.glob('G:/My Drive/GitHubProjects/MLS/data/data_clean/matches/raw/reframed_stats/*.csv'):\n",
    "    df = pd.read_csv(file)\n",
    "    df = create_simple(df)\n",
    "    # Save the simplified DataFrame to a new CSV file\n",
    "    output_file = f\"G:/My Drive/GitHubProjects/MLS/data/data_clean/matches/raw/simple_stats/simple_{os.path.basename(file)}\"\n",
    "    df.to_csv(output_file, index=False)\n"
   ]
  }
 ],
 "metadata": {
  "kernelspec": {
   "display_name": "Python 3",
   "language": "python",
   "name": "python3"
  },
  "language_info": {
   "codemirror_mode": {
    "name": "ipython",
    "version": 3
   },
   "file_extension": ".py",
   "mimetype": "text/x-python",
   "name": "python",
   "nbconvert_exporter": "python",
   "pygments_lexer": "ipython3",
   "version": "3.13.5"
  }
 },
 "nbformat": 4,
 "nbformat_minor": 5
}
