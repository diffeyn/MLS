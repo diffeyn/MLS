{
 "cells": [
  {
   "cell_type": "code",
   "execution_count": null,
   "id": "6bd460f3",
   "metadata": {},
   "outputs": [],
   "source": [
    "import pandas as pd\n",
    "from selenium import webdriver\n",
    "from selenium.webdriver.common.by import By\n",
    "from selenium.common.exceptions import *\n",
    "from selenium.webdriver.support.ui import Select\n",
    "from datetime import datetime\n",
    "from selenium.webdriver.chrome.service import Service as ChromeService\n",
    "from webdriver_manager.chrome import ChromeDriverManager"
   ]
  },
  {
   "cell_type": "code",
   "execution_count": null,
   "id": "8abc33e5",
   "metadata": {},
   "outputs": [],
   "source": [
    "def set_up_driver():\n",
    "    options = webdriver.ChromeOptions()\n",
    "    options.add_argument('--headless')\n",
    "    options.add_argument('--no-sandbox')\n",
    "    options.add_argument('--disable-dev-shm-usage')\n",
    "\n",
    "    service = ChromeService(ChromeDriverManager().install())\n",
    "\n",
    "    driver = webdriver.Chrome(service=service, options=options)\n",
    "    return driver"
   ]
  },
  {
   "cell_type": "code",
   "execution_count": 4,
   "id": "53742808",
   "metadata": {},
   "outputs": [],
   "source": [
    "def go_to_page(url, driver):\n",
    "    driver.get(url)\n",
    "    return driver"
   ]
  },
  {
   "cell_type": "code",
   "execution_count": 5,
   "id": "71ed9d82",
   "metadata": {},
   "outputs": [],
   "source": [
    "def extact_teams_and_href(driver):\n",
    "    teams = []\n",
    "    team_headers = []\n",
    "    hrefs = []\n",
    "    try:\n",
    "        table = driver.find_element(By.TAG_NAME, 'table')\n",
    "        header_elements = table.find_elements(By.TAG_NAME, \"th\")\n",
    "        for header in header_elements:\n",
    "            team_headers.append(header.text.strip())\n",
    "        rows = table.find_elements(By.XPATH, \".//tbody/tr\")\n",
    "        for row in rows:\n",
    "            cells = row.find_elements(By.TAG_NAME, 'td')\n",
    "            row_data = []\n",
    "            for cell in cells:\n",
    "                cell_text = cell.text.strip()\n",
    "                row_data.append(cell_text)\n",
    "                try:\n",
    "                    link_element = cell.find_element(By.TAG_NAME, 'a')\n",
    "                    hrefs.append(link_element.get_attribute('href'))\n",
    "                except Exception:\n",
    "                    pass \n",
    "            teams.append(row_data)\n",
    "    except Exception as e:\n",
    "        print('could not find table', e)\n",
    "\n",
    "    teams_df = pd.DataFrame(teams, columns=team_headers)\n",
    "    \n",
    "    try:\n",
    "        date_dropdown = driver.find_element(By.XPATH, '/html/body/header/section/p/select[2]')\n",
    "        select = Select(date_dropdown)\n",
    "        date = select.first_selected_option.text.strip()\n",
    "        teams_df['Date'] = date\n",
    "    except Exception as e:\n",
    "        print('couldnt save date', e)\n",
    "\n",
    "    return teams_df, hrefs, date"
   ]
  },
  {
   "cell_type": "code",
   "execution_count": 6,
   "id": "58581535",
   "metadata": {},
   "outputs": [],
   "source": [
    "def extract_teams():\n",
    "    driver = set_up_driver()\n",
    "    go_to_page('https://sofifa.com/teams?type=all&lg%5B0%5D=39&showCol%5B%5D=ti&showCol%5B%5D=fm&showCol%5B%5D=oa&showCol%5B%5D=at&showCol%5B%5D=md&showCol%5B%5D=df&showCol%5B%5D=cw&showCol%5B%5D=ps', driver)\n",
    "    df, hrefs, date = extact_teams_and_href(driver)\n",
    "    \n",
    "    return df, hrefs, date\n",
    "    "
   ]
  },
  {
   "cell_type": "code",
   "execution_count": 7,
   "id": "c45c94d0",
   "metadata": {},
   "outputs": [],
   "source": [
    "df, hrefs, date = extract_teams()"
   ]
  },
  {
   "cell_type": "code",
   "execution_count": 8,
   "id": "307df54e",
   "metadata": {},
   "outputs": [
    {
     "data": {
      "application/vnd.microsoft.datawrangler.viewer.v0+json": {
       "columns": [
        {
         "name": "index",
         "rawType": "int64",
         "type": "integer"
        },
        {
         "name": "",
         "rawType": "object",
         "type": "string"
        },
        {
         "name": "Name",
         "rawType": "object",
         "type": "string"
        },
        {
         "name": "ID",
         "rawType": "object",
         "type": "string"
        },
        {
         "name": "Formation",
         "rawType": "object",
         "type": "string"
        },
        {
         "name": "Overall",
         "rawType": "object",
         "type": "string"
        },
        {
         "name": "Attack",
         "rawType": "object",
         "type": "string"
        },
        {
         "name": "Midfield",
         "rawType": "object",
         "type": "string"
        },
        {
         "name": "Defence",
         "rawType": "object",
         "type": "string"
        },
        {
         "name": "Club worth",
         "rawType": "object",
         "type": "string"
        },
        {
         "name": "Players",
         "rawType": "object",
         "type": "string"
        },
        {
         "name": "",
         "rawType": "object",
         "type": "string"
        },
        {
         "name": "Date",
         "rawType": "object",
         "type": "string"
        }
       ],
       "ref": "6a986e78-e0c3-4756-8294-1807c387016e",
       "rows": [
        [
         "0",
         "",
         "Inter Miami\nMajor League Soccer",
         "112893",
         "4-4-2 Holding",
         "73",
         "84",
         "72",
         "70",
         "€420M",
         "26",
         "",
         "Jul 17, 2025"
        ],
        [
         "1",
         "",
         "Seattle Sounders FC\nMajor League Soccer",
         "111144",
         "3-4-2-1",
         "71",
         "73",
         "68",
         "71",
         "€314.5M",
         "28",
         "",
         "Jul 17, 2025"
        ],
        [
         "2",
         "",
         "Los Angeles FC\nMajor League Soccer",
         "112996",
         "4-3-3 Holding",
         "71",
         "74",
         "69",
         "70",
         "€427.5M",
         "26",
         "",
         "Jul 17, 2025"
        ],
        [
         "3",
         "",
         "LA Galaxy\nMajor League Soccer",
         "697",
         "4-2-3-1 Wide",
         "71",
         "70",
         "71",
         "69",
         "€412M",
         "26",
         "",
         "Jul 17, 2025"
        ],
        [
         "4",
         "",
         "St. Louis CITY SC\nMajor League Soccer",
         "113018",
         "3-4-2-1",
         "70",
         "73",
         "69",
         "68",
         "€175M",
         "29",
         "",
         "Jul 17, 2025"
        ]
       ],
       "shape": {
        "columns": 12,
        "rows": 5
       }
      },
      "text/html": [
       "<div>\n",
       "<style scoped>\n",
       "    .dataframe tbody tr th:only-of-type {\n",
       "        vertical-align: middle;\n",
       "    }\n",
       "\n",
       "    .dataframe tbody tr th {\n",
       "        vertical-align: top;\n",
       "    }\n",
       "\n",
       "    .dataframe thead th {\n",
       "        text-align: right;\n",
       "    }\n",
       "</style>\n",
       "<table border=\"1\" class=\"dataframe\">\n",
       "  <thead>\n",
       "    <tr style=\"text-align: right;\">\n",
       "      <th></th>\n",
       "      <th></th>\n",
       "      <th>Name</th>\n",
       "      <th>ID</th>\n",
       "      <th>Formation</th>\n",
       "      <th>Overall</th>\n",
       "      <th>Attack</th>\n",
       "      <th>Midfield</th>\n",
       "      <th>Defence</th>\n",
       "      <th>Club worth</th>\n",
       "      <th>Players</th>\n",
       "      <th></th>\n",
       "      <th>Date</th>\n",
       "    </tr>\n",
       "  </thead>\n",
       "  <tbody>\n",
       "    <tr>\n",
       "      <th>0</th>\n",
       "      <td></td>\n",
       "      <td>Inter Miami\\nMajor League Soccer</td>\n",
       "      <td>112893</td>\n",
       "      <td>4-4-2 Holding</td>\n",
       "      <td>73</td>\n",
       "      <td>84</td>\n",
       "      <td>72</td>\n",
       "      <td>70</td>\n",
       "      <td>€420M</td>\n",
       "      <td>26</td>\n",
       "      <td></td>\n",
       "      <td>Jul 17, 2025</td>\n",
       "    </tr>\n",
       "    <tr>\n",
       "      <th>1</th>\n",
       "      <td></td>\n",
       "      <td>Seattle Sounders FC\\nMajor League Soccer</td>\n",
       "      <td>111144</td>\n",
       "      <td>3-4-2-1</td>\n",
       "      <td>71</td>\n",
       "      <td>73</td>\n",
       "      <td>68</td>\n",
       "      <td>71</td>\n",
       "      <td>€314.5M</td>\n",
       "      <td>28</td>\n",
       "      <td></td>\n",
       "      <td>Jul 17, 2025</td>\n",
       "    </tr>\n",
       "    <tr>\n",
       "      <th>2</th>\n",
       "      <td></td>\n",
       "      <td>Los Angeles FC\\nMajor League Soccer</td>\n",
       "      <td>112996</td>\n",
       "      <td>4-3-3 Holding</td>\n",
       "      <td>71</td>\n",
       "      <td>74</td>\n",
       "      <td>69</td>\n",
       "      <td>70</td>\n",
       "      <td>€427.5M</td>\n",
       "      <td>26</td>\n",
       "      <td></td>\n",
       "      <td>Jul 17, 2025</td>\n",
       "    </tr>\n",
       "    <tr>\n",
       "      <th>3</th>\n",
       "      <td></td>\n",
       "      <td>LA Galaxy\\nMajor League Soccer</td>\n",
       "      <td>697</td>\n",
       "      <td>4-2-3-1 Wide</td>\n",
       "      <td>71</td>\n",
       "      <td>70</td>\n",
       "      <td>71</td>\n",
       "      <td>69</td>\n",
       "      <td>€412M</td>\n",
       "      <td>26</td>\n",
       "      <td></td>\n",
       "      <td>Jul 17, 2025</td>\n",
       "    </tr>\n",
       "    <tr>\n",
       "      <th>4</th>\n",
       "      <td></td>\n",
       "      <td>St. Louis CITY SC\\nMajor League Soccer</td>\n",
       "      <td>113018</td>\n",
       "      <td>3-4-2-1</td>\n",
       "      <td>70</td>\n",
       "      <td>73</td>\n",
       "      <td>69</td>\n",
       "      <td>68</td>\n",
       "      <td>€175M</td>\n",
       "      <td>29</td>\n",
       "      <td></td>\n",
       "      <td>Jul 17, 2025</td>\n",
       "    </tr>\n",
       "  </tbody>\n",
       "</table>\n",
       "</div>"
      ],
      "text/plain": [
       "                                         Name      ID      Formation Overall  \\\n",
       "0            Inter Miami\\nMajor League Soccer  112893  4-4-2 Holding      73   \n",
       "1    Seattle Sounders FC\\nMajor League Soccer  111144        3-4-2-1      71   \n",
       "2         Los Angeles FC\\nMajor League Soccer  112996  4-3-3 Holding      71   \n",
       "3              LA Galaxy\\nMajor League Soccer     697   4-2-3-1 Wide      71   \n",
       "4      St. Louis CITY SC\\nMajor League Soccer  113018        3-4-2-1      70   \n",
       "\n",
       "  Attack Midfield Defence Club worth Players            Date  \n",
       "0     84       72      70      €420M      26    Jul 17, 2025  \n",
       "1     73       68      71    €314.5M      28    Jul 17, 2025  \n",
       "2     74       69      70    €427.5M      26    Jul 17, 2025  \n",
       "3     70       71      69      €412M      26    Jul 17, 2025  \n",
       "4     73       69      68      €175M      29    Jul 17, 2025  "
      ]
     },
     "execution_count": 8,
     "metadata": {},
     "output_type": "execute_result"
    }
   ],
   "source": [
    "df.head()"
   ]
  },
  {
   "cell_type": "code",
   "execution_count": 9,
   "id": "db8231e0",
   "metadata": {},
   "outputs": [
    {
     "data": {
      "text/plain": [
       "['https://sofifa.com/team/112893/inter-miami/',\n",
       " 'https://sofifa.com/team/111144/seattle-sounders-fc/',\n",
       " 'https://sofifa.com/team/112996/los-angeles-fc/',\n",
       " 'https://sofifa.com/team/697/la-galaxy/',\n",
       " 'https://sofifa.com/team/113018/st-louis-city-sc/',\n",
       " 'https://sofifa.com/team/114640/charlotte-fc/',\n",
       " 'https://sofifa.com/team/112885/atlanta-united/',\n",
       " 'https://sofifa.com/team/113149/fc-cincinnati/',\n",
       " 'https://sofifa.com/team/111140/portland-timbers/',\n",
       " 'https://sofifa.com/team/111928/san-jose-earthquakes/',\n",
       " 'https://sofifa.com/team/687/columbus-crew/',\n",
       " 'https://sofifa.com/team/689/new-york-red-bulls/',\n",
       " 'https://sofifa.com/team/691/new-england-revolution/',\n",
       " 'https://sofifa.com/team/698/houston-dynamo/',\n",
       " 'https://sofifa.com/team/112606/orlando-city-sc/',\n",
       " 'https://sofifa.com/team/114161/austin-fc/',\n",
       " 'https://sofifa.com/team/114162/nashville-sc/',\n",
       " 'https://sofifa.com/team/101112/vancouver-whitecaps-fc/',\n",
       " 'https://sofifa.com/team/112134/philadelphia-union/',\n",
       " 'https://sofifa.com/team/111138/minnesota-united-fc/',\n",
       " 'https://sofifa.com/team/111651/toronto-fc/',\n",
       " 'https://sofifa.com/team/693/chicago-fire/',\n",
       " 'https://sofifa.com/team/695/fc-dallas/',\n",
       " 'https://sofifa.com/team/696/sporting-kansas-city/',\n",
       " 'https://sofifa.com/team/111065/real-salt-lake/',\n",
       " 'https://sofifa.com/team/688/dc-united/',\n",
       " 'https://sofifa.com/team/694/colorado-rapids/',\n",
       " 'https://sofifa.com/team/112828/new-york-city-fc/',\n",
       " 'https://sofifa.com/team/111139/cf-montreal/']"
      ]
     },
     "execution_count": 9,
     "metadata": {},
     "output_type": "execute_result"
    }
   ],
   "source": [
    "hrefs"
   ]
  },
  {
   "cell_type": "code",
   "execution_count": 11,
   "id": "4684dd65",
   "metadata": {},
   "outputs": [],
   "source": [
    "df.to_csv(f'teams_{date}', index=False)\n",
    "with open('hrefs.txt', 'w') as f:\n",
    "    for href in hrefs:\n",
    "        f.write(href + '\\n')"
   ]
  }
 ],
 "metadata": {
  "kernelspec": {
   "display_name": "Python 3",
   "language": "python",
   "name": "python3"
  },
  "language_info": {
   "codemirror_mode": {
    "name": "ipython",
    "version": 3
   },
   "file_extension": ".py",
   "mimetype": "text/x-python",
   "name": "python",
   "nbconvert_exporter": "python",
   "pygments_lexer": "ipython3",
   "version": "3.13.5"
  }
 },
 "nbformat": 4,
 "nbformat_minor": 5
}
