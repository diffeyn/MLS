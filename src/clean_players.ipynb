{
 "cells": [
  {
   "cell_type": "code",
   "execution_count": null,
   "id": "1135ec35",
   "metadata": {},
   "outputs": [],
   "source": [
    "import pandas as pd\n",
    "import glob\n",
    "import os"
   ]
  },
  {
   "cell_type": "code",
   "execution_count": null,
   "id": "834e7bb3",
   "metadata": {},
   "outputs": [],
   "source": [
    "### if '+' present, add numbers, if '-' present, subtract numbers\n",
    "\n",
    "def safe_eval(x):\n",
    "    try:\n",
    "        if '+' in str(x):\n",
    "            return sum(int(i) for i in str(x).split('+'))\n",
    "        elif '-' in str(x):\n",
    "            return int(str(x).split('-')[0]) - sum(int(i) for i in str(x).split('-')[1:])\n",
    "        else:\n",
    "            return int(x)\n",
    "    except:\n",
    "        return x\n"
   ]
  },
  {
   "cell_type": "code",
   "execution_count": null,
   "id": "3d2e22f0",
   "metadata": {},
   "outputs": [],
   "source": [
    "def clean_player(ex):\n",
    "    ex = ex.copy()\n",
    "    \n",
    "    ex = ex.loc[:, ~ex.columns.str.contains('^Unnamed')]\n",
    "    \n",
    "    ex.loc[:, 'Name'] = ex['Name'].str.replace(r'[A-Z]+$', '', regex=True)\n",
    "    ex.loc[:, 'date'] = pd.to_datetime(ex['date']).dt.date\n",
    "    \n",
    "    pat = r'(\\w+)\\((\\d+)\\)(\\d{4}) ~ (\\d{4})'\n",
    "    ex[['position', 'jersey_num', 'contract_start',\n",
    "        'contract_end']] = ex.loc[:, 'Team & Contract'].astype(str).str.extract(pat)\n",
    "\n",
    "    ex.loc[:, 'height_cm'] = ex['Height'].astype(str).str.split('cm / ').str[0].astype('Int64')\n",
    "    ex.loc[:, 'weight_kg'] = ex['Weight'].astype(str).str.split('kg / ').str[0].astype('Int64')\n",
    "\n",
    "    ex.loc[:, 'wage_eur'] = ex['Wage'].astype(str).str.replace('€', '').str.replace(\n",
    "        ',', '').str.replace('K', '000').str.replace('M',\n",
    "                                                     '000000').astype('Int64')\n",
    "\n",
    "    ex.loc[:, 'value_eur'] = ex['Value'].astype(str).str.replace('€', '').str.replace(\n",
    "        ',', '').str.replace('.', '').str.replace('K', '000').str.replace(\n",
    "            'M', '000000').astype('Int64')\n",
    "    \n",
    "    \n",
    "    ex.drop(columns=['Height', 'Weight', 'Team & Contract', 'Value', 'Wage'],\n",
    "            inplace=True)\n",
    "    \n",
    "    ex = ex.map(safe_eval)\n",
    "\n",
    "    \n",
    "    main_cols = [\n",
    "        'ID', 'date', 'Name', 'Age', 'height_cm', 'weight_kg', 'team',\n",
    "        'contract_start', 'contract_end', 'position', 'foot', 'jersey_num',\n",
    "        'wage_eur', 'value_eur'\n",
    "    ]\n",
    "    \n",
    "    rest_cols = [col for col in ex.columns if col not in main_cols]\n",
    "    ex = ex[main_cols + rest_cols]\n",
    "    \n",
    "    for c in ex.columns:\n",
    "        try:\n",
    "            ex[c] = pd.to_numeric(ex[c])\n",
    "        except (ValueError, TypeError):\n",
    "            pass \n",
    "    \n",
    "    ex.columns = ex.columns.str.lower().str.replace(' ', '_')\n",
    "    \n",
    "    return ex\n"
   ]
  },
  {
   "cell_type": "code",
   "execution_count": null,
   "id": "68e0ece1",
   "metadata": {},
   "outputs": [],
   "source": [
    "csv = pd.read_csv('G:\\\\My Drive\\\\GitHubProjects\\\\MLS\\\\data\\\\scraping\\\\players\\\\Atlanta-United-Apr-1,-2025.csv')\n",
    "\n",
    "clean_csv = clean_player(csv)\n",
    "\n",
    "clean_csv"
   ]
  },
  {
   "cell_type": "code",
   "execution_count": null,
   "id": "3a69c527",
   "metadata": {},
   "outputs": [],
   "source": [
    "files = glob.glob('data/scraping/players/*.csv')"
   ]
  },
  {
   "cell_type": "code",
   "execution_count": null,
   "id": "76900e88",
   "metadata": {},
   "outputs": [],
   "source": [
    "for file in glob.glob('G:/My Drive/GitHubProjects/MLS/data/scraping/players/*.csv'):\n",
    "    df = pd.read_csv(file)\n",
    "    cleaned_df = clean_player(df)\n",
    "    filename = os.path.basename(file)\n",
    "    cleaned_df.to_csv(\n",
    "        f\"G:/My Drive/GitHubProjects/MLS/data/data_clean/players/cleaned_{filename}.csv\",\n",
    "        index=False)\n",
    "    print(f\"Cleaned {file} and saved the result.\")"
   ]
  }
 ],
 "metadata": {
  "kernelspec": {
   "display_name": "Python 3",
   "language": "python",
   "name": "python3"
  },
  "language_info": {
   "codemirror_mode": {
    "name": "ipython",
    "version": 3
   },
   "file_extension": ".py",
   "mimetype": "text/x-python",
   "name": "python",
   "nbconvert_exporter": "python",
   "pygments_lexer": "ipython3",
   "version": "3.13.5"
  }
 },
 "nbformat": 4,
 "nbformat_minor": 5
}
